{
  "cells": [
    {
      "cell_type": "markdown",
      "metadata": {
        "id": "RrJEWckE65tu",
        "papermill": {
          "duration": 0.030876,
          "end_time": "2020-10-06T21:19:31.915205",
          "exception": false,
          "start_time": "2020-10-06T21:19:31.884329",
          "status": "completed"
        },
        "tags": []
      },
      "source": [
        "We would run this notebook in Colab and we would upload the Tweets.csv to content folder.Referred doc-https://www.tensorflow.org/tutorials/keras/text_classification_with_hub\n",
        "\n",
        "Installing tensorflow hub and Importing required packages"
      ]
    },
    {
      "cell_type": "code",
      "source": [
        "pip install tensorflow-hub"
      ],
      "metadata": {
        "id": "C9hJ5XXUJ8Ir",
        "colab": {
          "base_uri": "https://localhost:8080/"
        },
        "outputId": "105eaa6b-b708-4096-860d-598312bfee44"
      },
      "execution_count": 1,
      "outputs": [
        {
          "output_type": "stream",
          "name": "stdout",
          "text": [
            "Requirement already satisfied: tensorflow-hub in /usr/local/lib/python3.10/dist-packages (0.16.0)\n",
            "Requirement already satisfied: numpy>=1.12.0 in /usr/local/lib/python3.10/dist-packages (from tensorflow-hub) (1.23.5)\n",
            "Requirement already satisfied: protobuf>=3.19.6 in /usr/local/lib/python3.10/dist-packages (from tensorflow-hub) (3.20.3)\n"
          ]
        }
      ]
    },
    {
      "cell_type": "code",
      "execution_count": 2,
      "metadata": {
        "execution": {
          "iopub.execute_input": "2020-10-06T21:19:31.986613Z",
          "iopub.status.busy": "2020-10-06T21:19:31.985943Z",
          "iopub.status.idle": "2020-10-06T21:19:41.514922Z",
          "shell.execute_reply": "2020-10-06T21:19:41.515686Z"
        },
        "id": "hO8FSxb465tw",
        "papermill": {
          "duration": 9.569887,
          "end_time": "2020-10-06T21:19:41.515898",
          "exception": false,
          "start_time": "2020-10-06T21:19:31.946011",
          "status": "completed"
        },
        "tags": []
      },
      "outputs": [],
      "source": [
        "import keras\n",
        "import pandas as pd\n",
        "import tensorflow as tf\n",
        "import tensorflow_hub as hub\n",
        "\n",
        "from tensorflow.keras import layers, losses, Sequential, optimizers, metrics"
      ]
    },
    {
      "cell_type": "code",
      "source": [
        "hub.__version__"
      ],
      "metadata": {
        "colab": {
          "base_uri": "https://localhost:8080/",
          "height": 35
        },
        "id": "0erSgjjSdXBj",
        "outputId": "8464cd18-9493-4ca1-ebde-9a78e754495b"
      },
      "execution_count": 13,
      "outputs": [
        {
          "output_type": "execute_result",
          "data": {
            "text/plain": [
              "'0.16.0'"
            ],
            "application/vnd.google.colaboratory.intrinsic+json": {
              "type": "string"
            }
          },
          "metadata": {},
          "execution_count": 13
        }
      ]
    },
    {
      "cell_type": "markdown",
      "metadata": {
        "id": "EGezvVv865t0",
        "papermill": {
          "duration": 0.032245,
          "end_time": "2020-10-06T21:19:41.583484",
          "exception": false,
          "start_time": "2020-10-06T21:19:41.551239",
          "status": "completed"
        },
        "tags": []
      },
      "source": [
        "Loading the  data"
      ]
    },
    {
      "cell_type": "code",
      "execution_count": 5,
      "metadata": {
        "_cell_guid": "79c7e3d0-c299-4dcb-8224-4455121ee9b0",
        "_uuid": "d629ff2d2480ee46fbb7e2d37f6b5fab8052498a",
        "colab": {
          "base_uri": "https://localhost:8080/",
          "height": 206
        },
        "execution": {
          "iopub.execute_input": "2020-10-06T21:19:41.667156Z",
          "iopub.status.busy": "2020-10-06T21:19:41.666425Z",
          "iopub.status.idle": "2020-10-06T21:19:41.753917Z",
          "shell.execute_reply": "2020-10-06T21:19:41.752384Z"
        },
        "id": "k8ea4Uac65t0",
        "outputId": "e25f8730-4895-4cc5-c9f1-3d352f9e14ab",
        "papermill": {
          "duration": 0.132806,
          "end_time": "2020-10-06T21:19:41.754037",
          "exception": false,
          "start_time": "2020-10-06T21:19:41.621231",
          "status": "completed"
        },
        "tags": []
      },
      "outputs": [
        {
          "output_type": "execute_result",
          "data": {
            "text/plain": [
              "         id          country     Label  \\\n",
              "66248  6944  johnson&johnson   Neutral   \n",
              "12538  8554            NBA2K  Positive   \n",
              "21187  4027            CS-GO  Positive   \n",
              "73594  9006           Nvidia   Neutral   \n",
              "32025  7496  LeagueOfLegends  Positive   \n",
              "\n",
              "                                                    Text  \n",
              "66248  The Missouri Court of Appeals on Tuesday order...  \n",
              "12538                                          . and wow  \n",
              "21187  Probably the best time to say goodbye and play...  \n",
              "73594  2009 Those of you that play CS:GO and having s...  \n",
              "32025               WIP of my favorite skin brushes from  "
            ],
            "text/html": [
              "\n",
              "  <div id=\"df-7d03687a-e80f-43fa-a9d9-bc8347285019\" class=\"colab-df-container\">\n",
              "    <div>\n",
              "<style scoped>\n",
              "    .dataframe tbody tr th:only-of-type {\n",
              "        vertical-align: middle;\n",
              "    }\n",
              "\n",
              "    .dataframe tbody tr th {\n",
              "        vertical-align: top;\n",
              "    }\n",
              "\n",
              "    .dataframe thead th {\n",
              "        text-align: right;\n",
              "    }\n",
              "</style>\n",
              "<table border=\"1\" class=\"dataframe\">\n",
              "  <thead>\n",
              "    <tr style=\"text-align: right;\">\n",
              "      <th></th>\n",
              "      <th>id</th>\n",
              "      <th>country</th>\n",
              "      <th>Label</th>\n",
              "      <th>Text</th>\n",
              "    </tr>\n",
              "  </thead>\n",
              "  <tbody>\n",
              "    <tr>\n",
              "      <th>66248</th>\n",
              "      <td>6944</td>\n",
              "      <td>johnson&amp;johnson</td>\n",
              "      <td>Neutral</td>\n",
              "      <td>The Missouri Court of Appeals on Tuesday order...</td>\n",
              "    </tr>\n",
              "    <tr>\n",
              "      <th>12538</th>\n",
              "      <td>8554</td>\n",
              "      <td>NBA2K</td>\n",
              "      <td>Positive</td>\n",
              "      <td>. and wow</td>\n",
              "    </tr>\n",
              "    <tr>\n",
              "      <th>21187</th>\n",
              "      <td>4027</td>\n",
              "      <td>CS-GO</td>\n",
              "      <td>Positive</td>\n",
              "      <td>Probably the best time to say goodbye and play...</td>\n",
              "    </tr>\n",
              "    <tr>\n",
              "      <th>73594</th>\n",
              "      <td>9006</td>\n",
              "      <td>Nvidia</td>\n",
              "      <td>Neutral</td>\n",
              "      <td>2009 Those of you that play CS:GO and having s...</td>\n",
              "    </tr>\n",
              "    <tr>\n",
              "      <th>32025</th>\n",
              "      <td>7496</td>\n",
              "      <td>LeagueOfLegends</td>\n",
              "      <td>Positive</td>\n",
              "      <td>WIP of my favorite skin brushes from</td>\n",
              "    </tr>\n",
              "  </tbody>\n",
              "</table>\n",
              "</div>\n",
              "    <div class=\"colab-df-buttons\">\n",
              "\n",
              "  <div class=\"colab-df-container\">\n",
              "    <button class=\"colab-df-convert\" onclick=\"convertToInteractive('df-7d03687a-e80f-43fa-a9d9-bc8347285019')\"\n",
              "            title=\"Convert this dataframe to an interactive table.\"\n",
              "            style=\"display:none;\">\n",
              "\n",
              "  <svg xmlns=\"http://www.w3.org/2000/svg\" height=\"24px\" viewBox=\"0 -960 960 960\">\n",
              "    <path d=\"M120-120v-720h720v720H120Zm60-500h600v-160H180v160Zm220 220h160v-160H400v160Zm0 220h160v-160H400v160ZM180-400h160v-160H180v160Zm440 0h160v-160H620v160ZM180-180h160v-160H180v160Zm440 0h160v-160H620v160Z\"/>\n",
              "  </svg>\n",
              "    </button>\n",
              "\n",
              "  <style>\n",
              "    .colab-df-container {\n",
              "      display:flex;\n",
              "      gap: 12px;\n",
              "    }\n",
              "\n",
              "    .colab-df-convert {\n",
              "      background-color: #E8F0FE;\n",
              "      border: none;\n",
              "      border-radius: 50%;\n",
              "      cursor: pointer;\n",
              "      display: none;\n",
              "      fill: #1967D2;\n",
              "      height: 32px;\n",
              "      padding: 0 0 0 0;\n",
              "      width: 32px;\n",
              "    }\n",
              "\n",
              "    .colab-df-convert:hover {\n",
              "      background-color: #E2EBFA;\n",
              "      box-shadow: 0px 1px 2px rgba(60, 64, 67, 0.3), 0px 1px 3px 1px rgba(60, 64, 67, 0.15);\n",
              "      fill: #174EA6;\n",
              "    }\n",
              "\n",
              "    .colab-df-buttons div {\n",
              "      margin-bottom: 4px;\n",
              "    }\n",
              "\n",
              "    [theme=dark] .colab-df-convert {\n",
              "      background-color: #3B4455;\n",
              "      fill: #D2E3FC;\n",
              "    }\n",
              "\n",
              "    [theme=dark] .colab-df-convert:hover {\n",
              "      background-color: #434B5C;\n",
              "      box-shadow: 0px 1px 3px 1px rgba(0, 0, 0, 0.15);\n",
              "      filter: drop-shadow(0px 1px 2px rgba(0, 0, 0, 0.3));\n",
              "      fill: #FFFFFF;\n",
              "    }\n",
              "  </style>\n",
              "\n",
              "    <script>\n",
              "      const buttonEl =\n",
              "        document.querySelector('#df-7d03687a-e80f-43fa-a9d9-bc8347285019 button.colab-df-convert');\n",
              "      buttonEl.style.display =\n",
              "        google.colab.kernel.accessAllowed ? 'block' : 'none';\n",
              "\n",
              "      async function convertToInteractive(key) {\n",
              "        const element = document.querySelector('#df-7d03687a-e80f-43fa-a9d9-bc8347285019');\n",
              "        const dataTable =\n",
              "          await google.colab.kernel.invokeFunction('convertToInteractive',\n",
              "                                                    [key], {});\n",
              "        if (!dataTable) return;\n",
              "\n",
              "        const docLinkHtml = 'Like what you see? Visit the ' +\n",
              "          '<a target=\"_blank\" href=https://colab.research.google.com/notebooks/data_table.ipynb>data table notebook</a>'\n",
              "          + ' to learn more about interactive tables.';\n",
              "        element.innerHTML = '';\n",
              "        dataTable['output_type'] = 'display_data';\n",
              "        await google.colab.output.renderOutput(dataTable, element);\n",
              "        const docLink = document.createElement('div');\n",
              "        docLink.innerHTML = docLinkHtml;\n",
              "        element.appendChild(docLink);\n",
              "      }\n",
              "    </script>\n",
              "  </div>\n",
              "\n",
              "\n",
              "<div id=\"df-44ef0b3f-9bc0-406c-9765-c1b53fccda63\">\n",
              "  <button class=\"colab-df-quickchart\" onclick=\"quickchart('df-44ef0b3f-9bc0-406c-9765-c1b53fccda63')\"\n",
              "            title=\"Suggest charts\"\n",
              "            style=\"display:none;\">\n",
              "\n",
              "<svg xmlns=\"http://www.w3.org/2000/svg\" height=\"24px\"viewBox=\"0 0 24 24\"\n",
              "     width=\"24px\">\n",
              "    <g>\n",
              "        <path d=\"M19 3H5c-1.1 0-2 .9-2 2v14c0 1.1.9 2 2 2h14c1.1 0 2-.9 2-2V5c0-1.1-.9-2-2-2zM9 17H7v-7h2v7zm4 0h-2V7h2v10zm4 0h-2v-4h2v4z\"/>\n",
              "    </g>\n",
              "</svg>\n",
              "  </button>\n",
              "\n",
              "<style>\n",
              "  .colab-df-quickchart {\n",
              "      --bg-color: #E8F0FE;\n",
              "      --fill-color: #1967D2;\n",
              "      --hover-bg-color: #E2EBFA;\n",
              "      --hover-fill-color: #174EA6;\n",
              "      --disabled-fill-color: #AAA;\n",
              "      --disabled-bg-color: #DDD;\n",
              "  }\n",
              "\n",
              "  [theme=dark] .colab-df-quickchart {\n",
              "      --bg-color: #3B4455;\n",
              "      --fill-color: #D2E3FC;\n",
              "      --hover-bg-color: #434B5C;\n",
              "      --hover-fill-color: #FFFFFF;\n",
              "      --disabled-bg-color: #3B4455;\n",
              "      --disabled-fill-color: #666;\n",
              "  }\n",
              "\n",
              "  .colab-df-quickchart {\n",
              "    background-color: var(--bg-color);\n",
              "    border: none;\n",
              "    border-radius: 50%;\n",
              "    cursor: pointer;\n",
              "    display: none;\n",
              "    fill: var(--fill-color);\n",
              "    height: 32px;\n",
              "    padding: 0;\n",
              "    width: 32px;\n",
              "  }\n",
              "\n",
              "  .colab-df-quickchart:hover {\n",
              "    background-color: var(--hover-bg-color);\n",
              "    box-shadow: 0 1px 2px rgba(60, 64, 67, 0.3), 0 1px 3px 1px rgba(60, 64, 67, 0.15);\n",
              "    fill: var(--button-hover-fill-color);\n",
              "  }\n",
              "\n",
              "  .colab-df-quickchart-complete:disabled,\n",
              "  .colab-df-quickchart-complete:disabled:hover {\n",
              "    background-color: var(--disabled-bg-color);\n",
              "    fill: var(--disabled-fill-color);\n",
              "    box-shadow: none;\n",
              "  }\n",
              "\n",
              "  .colab-df-spinner {\n",
              "    border: 2px solid var(--fill-color);\n",
              "    border-color: transparent;\n",
              "    border-bottom-color: var(--fill-color);\n",
              "    animation:\n",
              "      spin 1s steps(1) infinite;\n",
              "  }\n",
              "\n",
              "  @keyframes spin {\n",
              "    0% {\n",
              "      border-color: transparent;\n",
              "      border-bottom-color: var(--fill-color);\n",
              "      border-left-color: var(--fill-color);\n",
              "    }\n",
              "    20% {\n",
              "      border-color: transparent;\n",
              "      border-left-color: var(--fill-color);\n",
              "      border-top-color: var(--fill-color);\n",
              "    }\n",
              "    30% {\n",
              "      border-color: transparent;\n",
              "      border-left-color: var(--fill-color);\n",
              "      border-top-color: var(--fill-color);\n",
              "      border-right-color: var(--fill-color);\n",
              "    }\n",
              "    40% {\n",
              "      border-color: transparent;\n",
              "      border-right-color: var(--fill-color);\n",
              "      border-top-color: var(--fill-color);\n",
              "    }\n",
              "    60% {\n",
              "      border-color: transparent;\n",
              "      border-right-color: var(--fill-color);\n",
              "    }\n",
              "    80% {\n",
              "      border-color: transparent;\n",
              "      border-right-color: var(--fill-color);\n",
              "      border-bottom-color: var(--fill-color);\n",
              "    }\n",
              "    90% {\n",
              "      border-color: transparent;\n",
              "      border-bottom-color: var(--fill-color);\n",
              "    }\n",
              "  }\n",
              "</style>\n",
              "\n",
              "  <script>\n",
              "    async function quickchart(key) {\n",
              "      const quickchartButtonEl =\n",
              "        document.querySelector('#' + key + ' button');\n",
              "      quickchartButtonEl.disabled = true;  // To prevent multiple clicks.\n",
              "      quickchartButtonEl.classList.add('colab-df-spinner');\n",
              "      try {\n",
              "        const charts = await google.colab.kernel.invokeFunction(\n",
              "            'suggestCharts', [key], {});\n",
              "      } catch (error) {\n",
              "        console.error('Error during call to suggestCharts:', error);\n",
              "      }\n",
              "      quickchartButtonEl.classList.remove('colab-df-spinner');\n",
              "      quickchartButtonEl.classList.add('colab-df-quickchart-complete');\n",
              "    }\n",
              "    (() => {\n",
              "      let quickchartButtonEl =\n",
              "        document.querySelector('#df-44ef0b3f-9bc0-406c-9765-c1b53fccda63 button');\n",
              "      quickchartButtonEl.style.display =\n",
              "        google.colab.kernel.accessAllowed ? 'block' : 'none';\n",
              "    })();\n",
              "  </script>\n",
              "</div>\n",
              "    </div>\n",
              "  </div>\n"
            ]
          },
          "metadata": {},
          "execution_count": 5
        }
      ],
      "source": [
        "columns = [\"id\", \"country\", \"Label\", \"Text\"]\n",
        "\n",
        "tweets_data = pd.read_csv(\"twitter_training.csv\", names = columns)\n",
        "\n",
        "tweets_data.sample(5)"
      ]
    },
    {
      "cell_type": "markdown",
      "source": [
        "Dropping irrelevant columns, NAs and duplicates"
      ],
      "metadata": {
        "id": "lTK4NAuCGD2v"
      }
    },
    {
      "cell_type": "code",
      "execution_count": 6,
      "metadata": {
        "id": "N2yx_s1xbP2s",
        "colab": {
          "base_uri": "https://localhost:8080/"
        },
        "outputId": "e8a766d4-518e-49c4-e371-5a81f795a1ac"
      },
      "outputs": [
        {
          "output_type": "execute_result",
          "data": {
            "text/plain": [
              "(69769, 2)"
            ]
          },
          "metadata": {},
          "execution_count": 6
        }
      ],
      "source": [
        "tweets_data = tweets_data.drop(columns = [\"id\", \"country\"])\n",
        "\n",
        "tweets_data.dropna(inplace = True, axis = 0 )\n",
        "\n",
        "tweets_data = tweets_data.drop_duplicates()\n",
        "\n",
        "tweets_data.shape"
      ]
    },
    {
      "cell_type": "markdown",
      "source": [
        "Converting the labels to numeric form"
      ],
      "metadata": {
        "id": "MxiSa2SWGuHq"
      }
    },
    {
      "cell_type": "code",
      "execution_count": 7,
      "metadata": {
        "id": "YEk5QIErbP2t",
        "colab": {
          "base_uri": "https://localhost:8080/",
          "height": 206
        },
        "outputId": "15cc6f67-dbad-4f49-8f44-58a3dafca032"
      },
      "outputs": [
        {
          "output_type": "execute_result",
          "data": {
            "text/plain": [
              "       Label                                               Text\n",
              "38723      0  .@PlayHearthstone jumped right into the game t...\n",
              "2109       2  I FINALLY finished Borderlands 3! It's taken a...\n",
              "62426      3                       The people online are crazy.\n",
              "55255      1  The FiNN Damascus is now moved to the Sks, whe...\n",
              "54181      1  I won 5 achievements in Call of Duty: Modern W..."
            ],
            "text/html": [
              "\n",
              "  <div id=\"df-d306b7a8-d82f-4966-9ddb-f47c8ea9f75a\" class=\"colab-df-container\">\n",
              "    <div>\n",
              "<style scoped>\n",
              "    .dataframe tbody tr th:only-of-type {\n",
              "        vertical-align: middle;\n",
              "    }\n",
              "\n",
              "    .dataframe tbody tr th {\n",
              "        vertical-align: top;\n",
              "    }\n",
              "\n",
              "    .dataframe thead th {\n",
              "        text-align: right;\n",
              "    }\n",
              "</style>\n",
              "<table border=\"1\" class=\"dataframe\">\n",
              "  <thead>\n",
              "    <tr style=\"text-align: right;\">\n",
              "      <th></th>\n",
              "      <th>Label</th>\n",
              "      <th>Text</th>\n",
              "    </tr>\n",
              "  </thead>\n",
              "  <tbody>\n",
              "    <tr>\n",
              "      <th>38723</th>\n",
              "      <td>0</td>\n",
              "      <td>.@PlayHearthstone jumped right into the game t...</td>\n",
              "    </tr>\n",
              "    <tr>\n",
              "      <th>2109</th>\n",
              "      <td>2</td>\n",
              "      <td>I FINALLY finished Borderlands 3! It's taken a...</td>\n",
              "    </tr>\n",
              "    <tr>\n",
              "      <th>62426</th>\n",
              "      <td>3</td>\n",
              "      <td>The people online are crazy.</td>\n",
              "    </tr>\n",
              "    <tr>\n",
              "      <th>55255</th>\n",
              "      <td>1</td>\n",
              "      <td>The FiNN Damascus is now moved to the Sks, whe...</td>\n",
              "    </tr>\n",
              "    <tr>\n",
              "      <th>54181</th>\n",
              "      <td>1</td>\n",
              "      <td>I won 5 achievements in Call of Duty: Modern W...</td>\n",
              "    </tr>\n",
              "  </tbody>\n",
              "</table>\n",
              "</div>\n",
              "    <div class=\"colab-df-buttons\">\n",
              "\n",
              "  <div class=\"colab-df-container\">\n",
              "    <button class=\"colab-df-convert\" onclick=\"convertToInteractive('df-d306b7a8-d82f-4966-9ddb-f47c8ea9f75a')\"\n",
              "            title=\"Convert this dataframe to an interactive table.\"\n",
              "            style=\"display:none;\">\n",
              "\n",
              "  <svg xmlns=\"http://www.w3.org/2000/svg\" height=\"24px\" viewBox=\"0 -960 960 960\">\n",
              "    <path d=\"M120-120v-720h720v720H120Zm60-500h600v-160H180v160Zm220 220h160v-160H400v160Zm0 220h160v-160H400v160ZM180-400h160v-160H180v160Zm440 0h160v-160H620v160ZM180-180h160v-160H180v160Zm440 0h160v-160H620v160Z\"/>\n",
              "  </svg>\n",
              "    </button>\n",
              "\n",
              "  <style>\n",
              "    .colab-df-container {\n",
              "      display:flex;\n",
              "      gap: 12px;\n",
              "    }\n",
              "\n",
              "    .colab-df-convert {\n",
              "      background-color: #E8F0FE;\n",
              "      border: none;\n",
              "      border-radius: 50%;\n",
              "      cursor: pointer;\n",
              "      display: none;\n",
              "      fill: #1967D2;\n",
              "      height: 32px;\n",
              "      padding: 0 0 0 0;\n",
              "      width: 32px;\n",
              "    }\n",
              "\n",
              "    .colab-df-convert:hover {\n",
              "      background-color: #E2EBFA;\n",
              "      box-shadow: 0px 1px 2px rgba(60, 64, 67, 0.3), 0px 1px 3px 1px rgba(60, 64, 67, 0.15);\n",
              "      fill: #174EA6;\n",
              "    }\n",
              "\n",
              "    .colab-df-buttons div {\n",
              "      margin-bottom: 4px;\n",
              "    }\n",
              "\n",
              "    [theme=dark] .colab-df-convert {\n",
              "      background-color: #3B4455;\n",
              "      fill: #D2E3FC;\n",
              "    }\n",
              "\n",
              "    [theme=dark] .colab-df-convert:hover {\n",
              "      background-color: #434B5C;\n",
              "      box-shadow: 0px 1px 3px 1px rgba(0, 0, 0, 0.15);\n",
              "      filter: drop-shadow(0px 1px 2px rgba(0, 0, 0, 0.3));\n",
              "      fill: #FFFFFF;\n",
              "    }\n",
              "  </style>\n",
              "\n",
              "    <script>\n",
              "      const buttonEl =\n",
              "        document.querySelector('#df-d306b7a8-d82f-4966-9ddb-f47c8ea9f75a button.colab-df-convert');\n",
              "      buttonEl.style.display =\n",
              "        google.colab.kernel.accessAllowed ? 'block' : 'none';\n",
              "\n",
              "      async function convertToInteractive(key) {\n",
              "        const element = document.querySelector('#df-d306b7a8-d82f-4966-9ddb-f47c8ea9f75a');\n",
              "        const dataTable =\n",
              "          await google.colab.kernel.invokeFunction('convertToInteractive',\n",
              "                                                    [key], {});\n",
              "        if (!dataTable) return;\n",
              "\n",
              "        const docLinkHtml = 'Like what you see? Visit the ' +\n",
              "          '<a target=\"_blank\" href=https://colab.research.google.com/notebooks/data_table.ipynb>data table notebook</a>'\n",
              "          + ' to learn more about interactive tables.';\n",
              "        element.innerHTML = '';\n",
              "        dataTable['output_type'] = 'display_data';\n",
              "        await google.colab.output.renderOutput(dataTable, element);\n",
              "        const docLink = document.createElement('div');\n",
              "        docLink.innerHTML = docLinkHtml;\n",
              "        element.appendChild(docLink);\n",
              "      }\n",
              "    </script>\n",
              "  </div>\n",
              "\n",
              "\n",
              "<div id=\"df-ef70f007-91e0-4cc2-94c4-b580285ee2dc\">\n",
              "  <button class=\"colab-df-quickchart\" onclick=\"quickchart('df-ef70f007-91e0-4cc2-94c4-b580285ee2dc')\"\n",
              "            title=\"Suggest charts\"\n",
              "            style=\"display:none;\">\n",
              "\n",
              "<svg xmlns=\"http://www.w3.org/2000/svg\" height=\"24px\"viewBox=\"0 0 24 24\"\n",
              "     width=\"24px\">\n",
              "    <g>\n",
              "        <path d=\"M19 3H5c-1.1 0-2 .9-2 2v14c0 1.1.9 2 2 2h14c1.1 0 2-.9 2-2V5c0-1.1-.9-2-2-2zM9 17H7v-7h2v7zm4 0h-2V7h2v10zm4 0h-2v-4h2v4z\"/>\n",
              "    </g>\n",
              "</svg>\n",
              "  </button>\n",
              "\n",
              "<style>\n",
              "  .colab-df-quickchart {\n",
              "      --bg-color: #E8F0FE;\n",
              "      --fill-color: #1967D2;\n",
              "      --hover-bg-color: #E2EBFA;\n",
              "      --hover-fill-color: #174EA6;\n",
              "      --disabled-fill-color: #AAA;\n",
              "      --disabled-bg-color: #DDD;\n",
              "  }\n",
              "\n",
              "  [theme=dark] .colab-df-quickchart {\n",
              "      --bg-color: #3B4455;\n",
              "      --fill-color: #D2E3FC;\n",
              "      --hover-bg-color: #434B5C;\n",
              "      --hover-fill-color: #FFFFFF;\n",
              "      --disabled-bg-color: #3B4455;\n",
              "      --disabled-fill-color: #666;\n",
              "  }\n",
              "\n",
              "  .colab-df-quickchart {\n",
              "    background-color: var(--bg-color);\n",
              "    border: none;\n",
              "    border-radius: 50%;\n",
              "    cursor: pointer;\n",
              "    display: none;\n",
              "    fill: var(--fill-color);\n",
              "    height: 32px;\n",
              "    padding: 0;\n",
              "    width: 32px;\n",
              "  }\n",
              "\n",
              "  .colab-df-quickchart:hover {\n",
              "    background-color: var(--hover-bg-color);\n",
              "    box-shadow: 0 1px 2px rgba(60, 64, 67, 0.3), 0 1px 3px 1px rgba(60, 64, 67, 0.15);\n",
              "    fill: var(--button-hover-fill-color);\n",
              "  }\n",
              "\n",
              "  .colab-df-quickchart-complete:disabled,\n",
              "  .colab-df-quickchart-complete:disabled:hover {\n",
              "    background-color: var(--disabled-bg-color);\n",
              "    fill: var(--disabled-fill-color);\n",
              "    box-shadow: none;\n",
              "  }\n",
              "\n",
              "  .colab-df-spinner {\n",
              "    border: 2px solid var(--fill-color);\n",
              "    border-color: transparent;\n",
              "    border-bottom-color: var(--fill-color);\n",
              "    animation:\n",
              "      spin 1s steps(1) infinite;\n",
              "  }\n",
              "\n",
              "  @keyframes spin {\n",
              "    0% {\n",
              "      border-color: transparent;\n",
              "      border-bottom-color: var(--fill-color);\n",
              "      border-left-color: var(--fill-color);\n",
              "    }\n",
              "    20% {\n",
              "      border-color: transparent;\n",
              "      border-left-color: var(--fill-color);\n",
              "      border-top-color: var(--fill-color);\n",
              "    }\n",
              "    30% {\n",
              "      border-color: transparent;\n",
              "      border-left-color: var(--fill-color);\n",
              "      border-top-color: var(--fill-color);\n",
              "      border-right-color: var(--fill-color);\n",
              "    }\n",
              "    40% {\n",
              "      border-color: transparent;\n",
              "      border-right-color: var(--fill-color);\n",
              "      border-top-color: var(--fill-color);\n",
              "    }\n",
              "    60% {\n",
              "      border-color: transparent;\n",
              "      border-right-color: var(--fill-color);\n",
              "    }\n",
              "    80% {\n",
              "      border-color: transparent;\n",
              "      border-right-color: var(--fill-color);\n",
              "      border-bottom-color: var(--fill-color);\n",
              "    }\n",
              "    90% {\n",
              "      border-color: transparent;\n",
              "      border-bottom-color: var(--fill-color);\n",
              "    }\n",
              "  }\n",
              "</style>\n",
              "\n",
              "  <script>\n",
              "    async function quickchart(key) {\n",
              "      const quickchartButtonEl =\n",
              "        document.querySelector('#' + key + ' button');\n",
              "      quickchartButtonEl.disabled = true;  // To prevent multiple clicks.\n",
              "      quickchartButtonEl.classList.add('colab-df-spinner');\n",
              "      try {\n",
              "        const charts = await google.colab.kernel.invokeFunction(\n",
              "            'suggestCharts', [key], {});\n",
              "      } catch (error) {\n",
              "        console.error('Error during call to suggestCharts:', error);\n",
              "      }\n",
              "      quickchartButtonEl.classList.remove('colab-df-spinner');\n",
              "      quickchartButtonEl.classList.add('colab-df-quickchart-complete');\n",
              "    }\n",
              "    (() => {\n",
              "      let quickchartButtonEl =\n",
              "        document.querySelector('#df-ef70f007-91e0-4cc2-94c4-b580285ee2dc button');\n",
              "      quickchartButtonEl.style.display =\n",
              "        google.colab.kernel.accessAllowed ? 'block' : 'none';\n",
              "    })();\n",
              "  </script>\n",
              "</div>\n",
              "    </div>\n",
              "  </div>\n"
            ]
          },
          "metadata": {},
          "execution_count": 7
        }
      ],
      "source": [
        "tweets_data[\"Label\"] = tweets_data[\"Label\"].replace({\"Negative\": 0, \"Neutral\": 1, \"Positive\": 2, \"Irrelevant\": 3})\n",
        "\n",
        "tweets_data.sample(5)"
      ]
    },
    {
      "cell_type": "markdown",
      "source": [
        "Data is split into training , validation, and testing sets"
      ],
      "metadata": {
        "id": "4wCP_pkDHAcH"
      }
    },
    {
      "cell_type": "code",
      "execution_count": 8,
      "metadata": {
        "colab": {
          "base_uri": "https://localhost:8080/"
        },
        "id": "yOLM2Y6765t3",
        "outputId": "b84e462d-d040-44a0-f004-4a106d9ad97c"
      },
      "outputs": [
        {
          "output_type": "execute_result",
          "data": {
            "text/plain": [
              "((50233, 2), (5582, 2), (13954, 2))"
            ]
          },
          "metadata": {},
          "execution_count": 8
        }
      ],
      "source": [
        "from sklearn.model_selection import train_test_split\n",
        "\n",
        "X_train, X_test = train_test_split(\n",
        "    tweets_data, test_size = 0.2, stratify = tweets_data[\"Label\"], random_state = 123)\n",
        "X_train, X_val = train_test_split(\n",
        "    X_train, test_size = 0.1, stratify = X_train[\"Label\"], random_state = 123)\n",
        "\n",
        "X_train.shape, X_val.shape, X_test.shape"
      ]
    },
    {
      "cell_type": "markdown",
      "metadata": {
        "id": "EZeSKQC565t3"
      },
      "source": [
        "Creating Training and validation dataset from corresponding pandas dataframes"
      ]
    },
    {
      "cell_type": "code",
      "execution_count": 9,
      "metadata": {
        "id": "NkrhEt4765t4"
      },
      "outputs": [],
      "source": [
        "BATCH_SIZE = 128\n",
        "\n",
        "raw_train_ds = tf.data.Dataset.from_tensor_slices(\n",
        "    (X_train[\"Text\"].values, X_train[\"Label\"].values)).shuffle(10000).batch(batch_size = BATCH_SIZE)\n",
        "\n",
        "raw_val_ds = tf.data.Dataset.from_tensor_slices(\n",
        "    (X_val[\"Text\"].values, X_val[\"Label\"].values)).batch(batch_size = BATCH_SIZE)\n",
        "\n",
        "raw_test_ds = tf.data.Dataset.from_tensor_slices(\n",
        "    (X_test[\"Text\"].values, X_test[\"Label\"].values)).batch(batch_size = BATCH_SIZE)"
      ]
    },
    {
      "cell_type": "code",
      "execution_count": 10,
      "metadata": {
        "colab": {
          "base_uri": "https://localhost:8080/"
        },
        "id": "9E45ijN7QTw9",
        "outputId": "4731db49-eeaa-4282-9cab-f3b2b63e1f7c"
      },
      "outputs": [
        {
          "output_type": "execute_result",
          "data": {
            "text/plain": [
              "<tf.Tensor: shape=(5,), dtype=string, numpy=\n",
              "array([b'@CallofDuty @Blizzard_Ent seriously. I want to fix this issue. please let me know who to contact.',\n",
              "       b'Clip that sentence.',\n",
              "       b'In simulating a phishing attack, more than 10% of students clicked on a \"nasty\" link. Young students are often easy targets for phishing attacks, putting entire universities at risk.',\n",
              "       b'Enjoy the dystopian corporatocratic future with the refreshing taste our Rockstar\\xe2\\x84\\xa2 Energy!',\n",
              "       b'... I just... earned the [ Mythic : What Dragons of Nightmare ] Achievement!'],\n",
              "      dtype=object)>"
            ]
          },
          "metadata": {},
          "execution_count": 10
        }
      ],
      "source": [
        "train_examples_batch, train_labels_batch = next(iter(raw_train_ds))\n",
        "\n",
        "train_examples_batch[:5]"
      ]
    },
    {
      "cell_type": "code",
      "execution_count": 11,
      "metadata": {
        "colab": {
          "base_uri": "https://localhost:8080/"
        },
        "id": "GV-3USkgQTw9",
        "outputId": "f95013d1-cb3a-4686-b94a-47b896906e2a"
      },
      "outputs": [
        {
          "output_type": "execute_result",
          "data": {
            "text/plain": [
              "<tf.Tensor: shape=(5,), dtype=int64, numpy=array([0, 0, 2, 2, 1])>"
            ]
          },
          "metadata": {},
          "execution_count": 11
        }
      ],
      "source": [
        "train_labels_batch[:5]"
      ]
    },
    {
      "cell_type": "markdown",
      "source": [
        "Model Building\n",
        "The neural network is created by stacking layers—this requires three main architectural decisions:\n",
        "\n",
        "- How to represent the text?\n",
        "- How many layers to use in the model?\n",
        "- How many hidden units to use for each layer?\n",
        "- In this example, the input data consists of sentences. The labels to predict are either 0, 1, 2, 3.\n",
        "\n",
        "One way to represent the text is to convert sentences into embeddings vectors. Use a pre-trained text embedding as the first layer, which will have three advantages:\n",
        "\n",
        "- You don't have to worry about text preprocessing,\n",
        "- Benefit from transfer learning,\n",
        "- the embedding has a fixed size, so it's simpler to process.\n",
        "\n",
        "For this example you use a pre-trained text embedding model from TensorFlow Hub called google/nnlm-en-dim50/2.\n",
        "\n",
        "There are many other pre-trained text embeddings from TFHub that can be used in this tutorial:\n",
        "\n",
        "- google/nnlm-en-dim128/2 - trained with the same NNLM architecture on the same - data as google/nnlm-en-dim50/2, but with a larger embedding dimension. Larger dimensional embeddings can improve on your task but it may take longer to train your model.\n",
        "- google/nnlm-en-dim128-with-normalization/2 - the same as google/nnlm-en-dim128/2, but with additional text normalization such as removing punctuation. This can help if the text in your task contains additional characters or punctuation.\n",
        "- google/universal-sentence-encoder/4 - a much larger model yielding 512 dimensional embeddings trained with a deep averaging network (DAN) encoder.\n",
        "\n",
        "\n",
        "Creating a Keras layer that uses a TensorFlow Hub model to embed the sentences.Note that no matter the length of the input text, the output shape of the embeddings is: (num_examples, embedding_dimension).Best test accuracy of around 0.87  is obtained with 'google/nnlm-en-dim128-with-normalization/2' and with other two embeddings i.e google/nnlm-en-dim50/2 and google/nnlm-en-dim128/2 test accuracies obtained is around 0.0.82"
      ],
      "metadata": {
        "id": "f8rARoGGHY3b"
      }
    },
    {
      "cell_type": "markdown",
      "source": [
        "### TODO Recording:\n",
        "\n",
        "- When you record, please show only one embedding at a time (DO NOT show commented out text)"
      ],
      "metadata": {
        "id": "S9_huuZPcoMf"
      }
    },
    {
      "cell_type": "code",
      "execution_count": 25,
      "metadata": {
        "colab": {
          "base_uri": "https://localhost:8080/"
        },
        "id": "gCmEHqwDQTw-",
        "outputId": "3153c268-0b1e-465e-d38b-9b94d1655c90"
      },
      "outputs": [
        {
          "output_type": "execute_result",
          "data": {
            "text/plain": [
              "TensorShape([3, 128])"
            ]
          },
          "metadata": {},
          "execution_count": 25
        }
      ],
      "source": [
        "# embedding = \"https://tfhub.dev/google/nnlm-en-dim50/2\"\n",
        "\n",
        "# embedding = \"https://tfhub.dev/google/nnlm-en-dim128/2\"\n",
        "embedding = \"https://tfhub.dev/google/nnlm-en-dim128-with-normalization/2\"\n",
        "\n",
        "hub_layer = hub.KerasLayer(\n",
        "    embedding, input_shape = [],\n",
        "    dtype = tf.string, trainable = True\n",
        ")\n",
        "\n",
        "hub_layer(train_examples_batch[:3]).shape"
      ]
    },
    {
      "cell_type": "markdown",
      "source": [
        "Building the full model"
      ],
      "metadata": {
        "id": "c3XApxV1JA8S"
      }
    },
    {
      "cell_type": "code",
      "execution_count": 26,
      "metadata": {
        "colab": {
          "base_uri": "https://localhost:8080/"
        },
        "id": "-CkOF3toQTw-",
        "outputId": "0bca2e86-18ee-49a1-826d-a0beff52e492"
      },
      "outputs": [
        {
          "output_type": "stream",
          "name": "stdout",
          "text": [
            "Model: \"sequential_2\"\n",
            "_________________________________________________________________\n",
            " Layer (type)                Output Shape              Param #   \n",
            "=================================================================\n",
            " keras_layer_2 (KerasLayer)  (None, 128)               124642688 \n",
            "                                                                 \n",
            " dense_4 (Dense)             (None, 32)                4128      \n",
            "                                                                 \n",
            " dense_5 (Dense)             (None, 4)                 132       \n",
            "                                                                 \n",
            "=================================================================\n",
            "Total params: 124646948 (475.49 MB)\n",
            "Trainable params: 124646948 (475.49 MB)\n",
            "Non-trainable params: 0 (0.00 Byte)\n",
            "_________________________________________________________________\n"
          ]
        }
      ],
      "source": [
        "model = Sequential()\n",
        "\n",
        "model.add(hub_layer)\n",
        "model.add(layers.Dense(32, activation = \"relu\"))\n",
        "model.add(layers.Dense(4))\n",
        "\n",
        "model.summary()"
      ]
    },
    {
      "cell_type": "markdown",
      "source": [
        "Model is compiled with Adam optimizer and loss function-Sparse Categorical Cross Entropy"
      ],
      "metadata": {
        "id": "NGNKL0svKdrX"
      }
    },
    {
      "cell_type": "code",
      "execution_count": 27,
      "metadata": {
        "id": "eR-xOH0IQTw-"
      },
      "outputs": [],
      "source": [
        "model.compile(\n",
        "    optimizer = keras.optimizers.Adam(learning_rate = 0.001),\n",
        "    loss = losses.SparseCategoricalCrossentropy(from_logits = True),\n",
        "    metrics = ['accuracy']\n",
        ")"
      ]
    },
    {
      "cell_type": "markdown",
      "source": [
        "We are using a callback list here\n",
        "Early stopping — Interrupting training when the validation loss is no longer improving (and save the best model obtained during training).\n",
        "\n",
        "ReduceLROnPlateau-Dynamically adjusting the value of certain parameters during training such as the learning rate optimizer.\n",
        "\n",
        "Callbacks are passed to the during via the callback argument in the fit() method which takes a list of callbacks. Any number of callbacks can be passed to it.\n",
        "\n",
        "The monitor argument in the EarlyStopping callback monitor’s the model’s validation accuracy and the patience argument interrupts training when the parameter passed to the monitor argument stops improving for more than the number (of epochs) passed to it (in this case 1).\n",
        "\n",
        "Also, the ReduceLROnPlateau callback is used to reduce the learning rate when the validation loss has stopped improving. This has proven to be a very effective strategy to get out of local minima during training. The factor argument takes as input a float which is used to divide the learning rate when triggered."
      ],
      "metadata": {
        "id": "u2_xcc_cUb1z"
      }
    },
    {
      "cell_type": "code",
      "source": [
        "callback_list = [\n",
        "    keras.callbacks.EarlyStopping(\n",
        "        patience = 3,\n",
        "        monitor = \"val_accuracy\"\n",
        "    ),\n",
        "\n",
        "    keras.callbacks.ReduceLROnPlateau(\n",
        "        patience = 1,\n",
        "        factor = 0.1,\n",
        "    )\n",
        "]"
      ],
      "metadata": {
        "id": "SNfFq3cCUcMZ"
      },
      "execution_count": 28,
      "outputs": []
    },
    {
      "cell_type": "markdown",
      "source": [
        "Model is trained for 20 epochs"
      ],
      "metadata": {
        "id": "za-V5XfQKqca"
      }
    },
    {
      "cell_type": "code",
      "execution_count": 29,
      "metadata": {
        "colab": {
          "base_uri": "https://localhost:8080/"
        },
        "id": "l2EgIVLtQTw_",
        "outputId": "0f17fca2-e56e-44d3-912a-858731ddd1f9"
      },
      "outputs": [
        {
          "output_type": "stream",
          "name": "stdout",
          "text": [
            "Epoch 1/20\n",
            "393/393 [==============================] - 35s 88ms/step - loss: 0.9048 - accuracy: 0.6438 - val_loss: 0.6006 - val_accuracy: 0.7852 - lr: 0.0010\n",
            "Epoch 2/20\n",
            "393/393 [==============================] - 20s 51ms/step - loss: 0.3702 - accuracy: 0.8723 - val_loss: 0.4175 - val_accuracy: 0.8517 - lr: 0.0010\n",
            "Epoch 3/20\n",
            "393/393 [==============================] - 16s 41ms/step - loss: 0.2042 - accuracy: 0.9314 - val_loss: 0.4016 - val_accuracy: 0.8665 - lr: 0.0010\n",
            "Epoch 4/20\n",
            "393/393 [==============================] - 15s 39ms/step - loss: 0.1397 - accuracy: 0.9541 - val_loss: 0.4187 - val_accuracy: 0.8723 - lr: 0.0010\n",
            "Epoch 5/20\n",
            "393/393 [==============================] - 15s 39ms/step - loss: 0.0869 - accuracy: 0.9736 - val_loss: 0.4115 - val_accuracy: 0.8780 - lr: 1.0000e-04\n",
            "Epoch 6/20\n",
            "393/393 [==============================] - 15s 38ms/step - loss: 0.0778 - accuracy: 0.9770 - val_loss: 0.4115 - val_accuracy: 0.8782 - lr: 1.0000e-05\n",
            "Epoch 7/20\n",
            "393/393 [==============================] - 15s 37ms/step - loss: 0.0770 - accuracy: 0.9774 - val_loss: 0.4115 - val_accuracy: 0.8778 - lr: 1.0000e-06\n",
            "Epoch 8/20\n",
            "393/393 [==============================] - 14s 37ms/step - loss: 0.0769 - accuracy: 0.9774 - val_loss: 0.4115 - val_accuracy: 0.8778 - lr: 1.0000e-07\n",
            "Epoch 9/20\n",
            "393/393 [==============================] - 15s 38ms/step - loss: 0.0769 - accuracy: 0.9774 - val_loss: 0.4115 - val_accuracy: 0.8778 - lr: 1.0000e-08\n"
          ]
        }
      ],
      "source": [
        "EPOCHS = 20\n",
        "\n",
        "history = model.fit(\n",
        "    raw_train_ds,\n",
        "    validation_data = raw_val_ds,\n",
        "    epochs = EPOCHS,\n",
        "    callbacks = callback_list\n",
        ")"
      ]
    },
    {
      "cell_type": "markdown",
      "source": [
        "Test accuracy is obtained"
      ],
      "metadata": {
        "id": "LGU0OVRCiToq"
      }
    },
    {
      "cell_type": "code",
      "execution_count": 30,
      "metadata": {
        "colab": {
          "base_uri": "https://localhost:8080/"
        },
        "id": "DdH5NyzQQTw_",
        "outputId": "4b638130-a89c-4e1e-b4e9-fd311e667028"
      },
      "outputs": [
        {
          "output_type": "stream",
          "name": "stdout",
          "text": [
            "110/110 [==============================] - 1s 7ms/step - loss: 0.3908 - accuracy: 0.8807\n",
            "Loss:  0.39083293080329895\n",
            "Accuracy:  0.8806793689727783\n"
          ]
        }
      ],
      "source": [
        "loss, accuracy = model.evaluate(raw_test_ds)\n",
        "\n",
        "print(\"Loss: \", loss)\n",
        "print(\"Accuracy: \", accuracy)"
      ]
    },
    {
      "cell_type": "code",
      "source": [],
      "metadata": {
        "id": "Q8NWifckeoCt"
      },
      "execution_count": null,
      "outputs": []
    }
  ],
  "metadata": {
    "accelerator": "GPU",
    "colab": {
      "gpuType": "T4",
      "provenance": []
    },
    "kernelspec": {
      "display_name": "keras_venv",
      "language": "python",
      "name": "keras_venv"
    },
    "language_info": {
      "codemirror_mode": {
        "name": "ipython",
        "version": 3
      },
      "file_extension": ".py",
      "mimetype": "text/x-python",
      "name": "python",
      "nbconvert_exporter": "python",
      "pygments_lexer": "ipython3",
      "version": "3.10.9"
    },
    "papermill": {
      "duration": 2724.650172,
      "end_time": "2020-10-06T22:04:52.151005",
      "environment_variables": {},
      "exception": null,
      "input_path": "__notebook__.ipynb",
      "output_path": "__notebook__.ipynb",
      "parameters": {},
      "start_time": "2020-10-06T21:19:27.500833",
      "version": "2.1.0"
    }
  },
  "nbformat": 4,
  "nbformat_minor": 0
}