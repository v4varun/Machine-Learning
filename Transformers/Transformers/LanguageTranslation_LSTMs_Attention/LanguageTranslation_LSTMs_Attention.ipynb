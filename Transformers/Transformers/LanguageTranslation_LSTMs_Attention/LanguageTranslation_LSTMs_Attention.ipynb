{
  "cells": [
    {
      "cell_type": "markdown",
      "source": [
        "### TODO Recording:\n",
        "\n",
        "- Please upload the fra.txt file to Colab"
      ],
      "metadata": {
        "id": "ZtE4qGydyzLi"
      },
      "id": "ZtE4qGydyzLi"
    },
    {
      "cell_type": "markdown",
      "source": [
        "https://edumunozsala.github.io/BlogEms/fastpages/jupyter/encoder-decoder/lstm/attention/tensorflow%202/2020/10/07/Intro-seq2seq-Encoder-Decoder-ENG-SPA-translator-tf2.html"
      ],
      "metadata": {
        "id": "xxW5YoyqBf8u"
      },
      "id": "xxW5YoyqBf8u"
    },
    {
      "cell_type": "code",
      "source": [
        "pip install \"tensorflow-text>=2.11\""
      ],
      "metadata": {
        "id": "QTAKrEz8yyeH",
        "colab": {
          "base_uri": "https://localhost:8080/"
        },
        "outputId": "8dc297aa-da43-4855-8ce4-c5fdd7221dcd"
      },
      "id": "QTAKrEz8yyeH",
      "execution_count": 5,
      "outputs": [
        {
          "output_type": "stream",
          "name": "stdout",
          "text": [
            "Collecting tensorflow-text>=2.11\n",
            "  Downloading tensorflow_text-2.15.0-cp310-cp310-manylinux_2_17_x86_64.manylinux2014_x86_64.whl (5.2 MB)\n",
            "\u001b[2K     \u001b[90m━━━━━━━━━━━━━━━━━━━━━━━━━━━━━━━━━━━━━━━━\u001b[0m \u001b[32m5.2/5.2 MB\u001b[0m \u001b[31m16.9 MB/s\u001b[0m eta \u001b[36m0:00:00\u001b[0m\n",
            "\u001b[?25hRequirement already satisfied: tensorflow-hub>=0.13.0 in /usr/local/lib/python3.10/dist-packages (from tensorflow-text>=2.11) (0.16.0)\n",
            "Requirement already satisfied: tensorflow<2.16,>=2.15.0 in /usr/local/lib/python3.10/dist-packages (from tensorflow-text>=2.11) (2.15.0)\n",
            "Requirement already satisfied: absl-py>=1.0.0 in /usr/local/lib/python3.10/dist-packages (from tensorflow<2.16,>=2.15.0->tensorflow-text>=2.11) (1.4.0)\n",
            "Requirement already satisfied: astunparse>=1.6.0 in /usr/local/lib/python3.10/dist-packages (from tensorflow<2.16,>=2.15.0->tensorflow-text>=2.11) (1.6.3)\n",
            "Requirement already satisfied: flatbuffers>=23.5.26 in /usr/local/lib/python3.10/dist-packages (from tensorflow<2.16,>=2.15.0->tensorflow-text>=2.11) (23.5.26)\n",
            "Requirement already satisfied: gast!=0.5.0,!=0.5.1,!=0.5.2,>=0.2.1 in /usr/local/lib/python3.10/dist-packages (from tensorflow<2.16,>=2.15.0->tensorflow-text>=2.11) (0.5.4)\n",
            "Requirement already satisfied: google-pasta>=0.1.1 in /usr/local/lib/python3.10/dist-packages (from tensorflow<2.16,>=2.15.0->tensorflow-text>=2.11) (0.2.0)\n",
            "Requirement already satisfied: h5py>=2.9.0 in /usr/local/lib/python3.10/dist-packages (from tensorflow<2.16,>=2.15.0->tensorflow-text>=2.11) (3.9.0)\n",
            "Requirement already satisfied: libclang>=13.0.0 in /usr/local/lib/python3.10/dist-packages (from tensorflow<2.16,>=2.15.0->tensorflow-text>=2.11) (16.0.6)\n",
            "Requirement already satisfied: ml-dtypes~=0.2.0 in /usr/local/lib/python3.10/dist-packages (from tensorflow<2.16,>=2.15.0->tensorflow-text>=2.11) (0.2.0)\n",
            "Requirement already satisfied: numpy<2.0.0,>=1.23.5 in /usr/local/lib/python3.10/dist-packages (from tensorflow<2.16,>=2.15.0->tensorflow-text>=2.11) (1.23.5)\n",
            "Requirement already satisfied: opt-einsum>=2.3.2 in /usr/local/lib/python3.10/dist-packages (from tensorflow<2.16,>=2.15.0->tensorflow-text>=2.11) (3.3.0)\n",
            "Requirement already satisfied: packaging in /usr/local/lib/python3.10/dist-packages (from tensorflow<2.16,>=2.15.0->tensorflow-text>=2.11) (23.2)\n",
            "Requirement already satisfied: protobuf!=4.21.0,!=4.21.1,!=4.21.2,!=4.21.3,!=4.21.4,!=4.21.5,<5.0.0dev,>=3.20.3 in /usr/local/lib/python3.10/dist-packages (from tensorflow<2.16,>=2.15.0->tensorflow-text>=2.11) (3.20.3)\n",
            "Requirement already satisfied: setuptools in /usr/local/lib/python3.10/dist-packages (from tensorflow<2.16,>=2.15.0->tensorflow-text>=2.11) (67.7.2)\n",
            "Requirement already satisfied: six>=1.12.0 in /usr/local/lib/python3.10/dist-packages (from tensorflow<2.16,>=2.15.0->tensorflow-text>=2.11) (1.16.0)\n",
            "Requirement already satisfied: termcolor>=1.1.0 in /usr/local/lib/python3.10/dist-packages (from tensorflow<2.16,>=2.15.0->tensorflow-text>=2.11) (2.4.0)\n",
            "Requirement already satisfied: typing-extensions>=3.6.6 in /usr/local/lib/python3.10/dist-packages (from tensorflow<2.16,>=2.15.0->tensorflow-text>=2.11) (4.5.0)\n",
            "Requirement already satisfied: wrapt<1.15,>=1.11.0 in /usr/local/lib/python3.10/dist-packages (from tensorflow<2.16,>=2.15.0->tensorflow-text>=2.11) (1.14.1)\n",
            "Requirement already satisfied: tensorflow-io-gcs-filesystem>=0.23.1 in /usr/local/lib/python3.10/dist-packages (from tensorflow<2.16,>=2.15.0->tensorflow-text>=2.11) (0.35.0)\n",
            "Requirement already satisfied: grpcio<2.0,>=1.24.3 in /usr/local/lib/python3.10/dist-packages (from tensorflow<2.16,>=2.15.0->tensorflow-text>=2.11) (1.60.0)\n",
            "Requirement already satisfied: tensorboard<2.16,>=2.15 in /usr/local/lib/python3.10/dist-packages (from tensorflow<2.16,>=2.15.0->tensorflow-text>=2.11) (2.15.1)\n",
            "Requirement already satisfied: tensorflow-estimator<2.16,>=2.15.0 in /usr/local/lib/python3.10/dist-packages (from tensorflow<2.16,>=2.15.0->tensorflow-text>=2.11) (2.15.0)\n",
            "Requirement already satisfied: keras<2.16,>=2.15.0 in /usr/local/lib/python3.10/dist-packages (from tensorflow<2.16,>=2.15.0->tensorflow-text>=2.11) (2.15.0)\n",
            "Requirement already satisfied: wheel<1.0,>=0.23.0 in /usr/local/lib/python3.10/dist-packages (from astunparse>=1.6.0->tensorflow<2.16,>=2.15.0->tensorflow-text>=2.11) (0.42.0)\n",
            "Requirement already satisfied: google-auth<3,>=1.6.3 in /usr/local/lib/python3.10/dist-packages (from tensorboard<2.16,>=2.15->tensorflow<2.16,>=2.15.0->tensorflow-text>=2.11) (2.17.3)\n",
            "Requirement already satisfied: google-auth-oauthlib<2,>=0.5 in /usr/local/lib/python3.10/dist-packages (from tensorboard<2.16,>=2.15->tensorflow<2.16,>=2.15.0->tensorflow-text>=2.11) (1.2.0)\n",
            "Requirement already satisfied: markdown>=2.6.8 in /usr/local/lib/python3.10/dist-packages (from tensorboard<2.16,>=2.15->tensorflow<2.16,>=2.15.0->tensorflow-text>=2.11) (3.5.2)\n",
            "Requirement already satisfied: requests<3,>=2.21.0 in /usr/local/lib/python3.10/dist-packages (from tensorboard<2.16,>=2.15->tensorflow<2.16,>=2.15.0->tensorflow-text>=2.11) (2.31.0)\n",
            "Requirement already satisfied: tensorboard-data-server<0.8.0,>=0.7.0 in /usr/local/lib/python3.10/dist-packages (from tensorboard<2.16,>=2.15->tensorflow<2.16,>=2.15.0->tensorflow-text>=2.11) (0.7.2)\n",
            "Requirement already satisfied: werkzeug>=1.0.1 in /usr/local/lib/python3.10/dist-packages (from tensorboard<2.16,>=2.15->tensorflow<2.16,>=2.15.0->tensorflow-text>=2.11) (3.0.1)\n",
            "Requirement already satisfied: cachetools<6.0,>=2.0.0 in /usr/local/lib/python3.10/dist-packages (from google-auth<3,>=1.6.3->tensorboard<2.16,>=2.15->tensorflow<2.16,>=2.15.0->tensorflow-text>=2.11) (5.3.2)\n",
            "Requirement already satisfied: pyasn1-modules>=0.2.1 in /usr/local/lib/python3.10/dist-packages (from google-auth<3,>=1.6.3->tensorboard<2.16,>=2.15->tensorflow<2.16,>=2.15.0->tensorflow-text>=2.11) (0.3.0)\n",
            "Requirement already satisfied: rsa<5,>=3.1.4 in /usr/local/lib/python3.10/dist-packages (from google-auth<3,>=1.6.3->tensorboard<2.16,>=2.15->tensorflow<2.16,>=2.15.0->tensorflow-text>=2.11) (4.9)\n",
            "Requirement already satisfied: requests-oauthlib>=0.7.0 in /usr/local/lib/python3.10/dist-packages (from google-auth-oauthlib<2,>=0.5->tensorboard<2.16,>=2.15->tensorflow<2.16,>=2.15.0->tensorflow-text>=2.11) (1.3.1)\n",
            "Requirement already satisfied: charset-normalizer<4,>=2 in /usr/local/lib/python3.10/dist-packages (from requests<3,>=2.21.0->tensorboard<2.16,>=2.15->tensorflow<2.16,>=2.15.0->tensorflow-text>=2.11) (3.3.2)\n",
            "Requirement already satisfied: idna<4,>=2.5 in /usr/local/lib/python3.10/dist-packages (from requests<3,>=2.21.0->tensorboard<2.16,>=2.15->tensorflow<2.16,>=2.15.0->tensorflow-text>=2.11) (3.6)\n",
            "Requirement already satisfied: urllib3<3,>=1.21.1 in /usr/local/lib/python3.10/dist-packages (from requests<3,>=2.21.0->tensorboard<2.16,>=2.15->tensorflow<2.16,>=2.15.0->tensorflow-text>=2.11) (2.0.7)\n",
            "Requirement already satisfied: certifi>=2017.4.17 in /usr/local/lib/python3.10/dist-packages (from requests<3,>=2.21.0->tensorboard<2.16,>=2.15->tensorflow<2.16,>=2.15.0->tensorflow-text>=2.11) (2023.11.17)\n",
            "Requirement already satisfied: MarkupSafe>=2.1.1 in /usr/local/lib/python3.10/dist-packages (from werkzeug>=1.0.1->tensorboard<2.16,>=2.15->tensorflow<2.16,>=2.15.0->tensorflow-text>=2.11) (2.1.4)\n",
            "Requirement already satisfied: pyasn1<0.6.0,>=0.4.6 in /usr/local/lib/python3.10/dist-packages (from pyasn1-modules>=0.2.1->google-auth<3,>=1.6.3->tensorboard<2.16,>=2.15->tensorflow<2.16,>=2.15.0->tensorflow-text>=2.11) (0.5.1)\n",
            "Requirement already satisfied: oauthlib>=3.0.0 in /usr/local/lib/python3.10/dist-packages (from requests-oauthlib>=0.7.0->google-auth-oauthlib<2,>=0.5->tensorboard<2.16,>=2.15->tensorflow<2.16,>=2.15.0->tensorflow-text>=2.11) (3.2.2)\n",
            "Installing collected packages: tensorflow-text\n",
            "Successfully installed tensorflow-text-2.15.0\n"
          ]
        }
      ]
    },
    {
      "cell_type": "markdown",
      "source": [
        "Required Libraries and modules are imported"
      ],
      "metadata": {
        "id": "c7yDjfYdUbCE"
      },
      "id": "c7yDjfYdUbCE"
    },
    {
      "cell_type": "code",
      "execution_count": 6,
      "id": "a7f6d781",
      "metadata": {
        "id": "a7f6d781"
      },
      "outputs": [],
      "source": [
        "import string\n",
        "import random\n",
        "\n",
        "import numpy as np\n",
        "import tensorflow as tf\n",
        "import tensorflow_text as tf_text\n",
        "\n",
        "from tensorflow import keras\n",
        "from tensorflow.keras import layers\n",
        "from tensorflow.keras.layers import TextVectorization"
      ]
    },
    {
      "cell_type": "markdown",
      "source": [
        "Loading the data and then generating sentence pairs in tuple form."
      ],
      "metadata": {
        "id": "BNdOLvbMUlfy"
      },
      "id": "BNdOLvbMUlfy"
    },
    {
      "cell_type": "code",
      "execution_count": 10,
      "id": "1559e936",
      "metadata": {
        "id": "1559e936"
      },
      "outputs": [],
      "source": [
        "with open(\"fra.txt\") as f:\n",
        "    lines = f.read().split(\"\\n\")[:-1]\n",
        "\n",
        "    text_pairs = []\n",
        "\n",
        "    for line in lines:\n",
        "        eng, fra = line.split(\"\\t\")\n",
        "        fra = \"[start] \" + fra + \" [end]\"\n",
        "        text_pairs.append((eng, fra))"
      ]
    },
    {
      "cell_type": "markdown",
      "source": [
        "Viewing some eng-french sentence pairs"
      ],
      "metadata": {
        "id": "JTi88W-uUwet"
      },
      "id": "JTi88W-uUwet"
    },
    {
      "cell_type": "code",
      "source": [
        "for _ in range(10):\n",
        "    print(random.choice(text_pairs))"
      ],
      "metadata": {
        "id": "3q2lecm3UsUy",
        "colab": {
          "base_uri": "https://localhost:8080/"
        },
        "outputId": "e0cc18b6-664b-4498-edd4-f75195fed02b"
      },
      "id": "3q2lecm3UsUy",
      "execution_count": 11,
      "outputs": [
        {
          "output_type": "stream",
          "name": "stdout",
          "text": [
            "('You had a long day.', '[start] Vous avez eu une longue journée. [end]')\n",
            "('It was a warm day, so we went swimming.', \"[start] C'était une chaude journée donc nous sommes allés nager. [end]\")\n",
            "('I spend at least three hours a week studying French.', \"[start] J'ai passé au moins trois heures par semaine à étudier le français. [end]\")\n",
            "(\"It won't cost you a dime.\", '[start] Ça ne te coûtera pas un centime. [end]')\n",
            "('Tom makes everyone nervous.', '[start] Tom rend tout le monde nerveux. [end]')\n",
            "('I felt sad.', '[start] Je me suis sentie triste. [end]')\n",
            "(\"Don't cast pearls before swine.\", '[start] Ne donnez pas de la confiture aux cochons. [end]')\n",
            "(\"That's completely unfair.\", \"[start] C'est totalement injuste. [end]\")\n",
            "('Where is it located?', '[start] Où est-ce que ça se trouve ? [end]')\n",
            "('They forgot to lock the door.', '[start] Ils oublièrent de fermer la porte à clé. [end]')\n"
          ]
        }
      ]
    },
    {
      "cell_type": "markdown",
      "source": [
        "Splitting whole text pairs list into training, validation and test pairs"
      ],
      "metadata": {
        "id": "jmDd_190Uy_S"
      },
      "id": "jmDd_190Uy_S"
    },
    {
      "cell_type": "code",
      "source": [
        "random.shuffle(text_pairs)\n",
        "\n",
        "num_val_samples = int(0.15 * len(text_pairs))\n",
        "num_train_samples = len(text_pairs) - 2 * num_val_samples\n",
        "\n",
        "train_pairs = text_pairs[:num_train_samples]\n",
        "val_pairs = text_pairs[num_train_samples : num_train_samples + num_val_samples]\n",
        "test_pairs = text_pairs[num_train_samples + num_val_samples :]\n",
        "\n",
        "print(f\"{len(text_pairs)} total pairs\")\n",
        "print(f\"{len(train_pairs)} training pairs\")\n",
        "print(f\"{len(val_pairs)} validation pairs\")\n",
        "print(f\"{len(test_pairs)} test pairs\")"
      ],
      "metadata": {
        "colab": {
          "base_uri": "https://localhost:8080/"
        },
        "id": "j6au1sQbx_Rh",
        "outputId": "458ac4ca-3e8e-4cac-e299-21510d41a16c"
      },
      "id": "j6au1sQbx_Rh",
      "execution_count": 12,
      "outputs": [
        {
          "output_type": "stream",
          "name": "stdout",
          "text": [
            "167130 total pairs\n",
            "116992 training pairs\n",
            "25069 validation pairs\n",
            "25069 test pairs\n"
          ]
        }
      ]
    },
    {
      "cell_type": "markdown",
      "source": [
        "The text sentences are almost clean, they are simple plain text, so we only need to remove accents, lower case the sentences and replace everything with space except (a-z, A-Z, \".\", \"?\", \"!\", \",\"). Function for text cleaning is defined"
      ],
      "metadata": {
        "id": "xy7dFUUEVHOn"
      },
      "id": "xy7dFUUEVHOn"
    },
    {
      "cell_type": "code",
      "source": [
        "def tf_lower_and_split_punct(text):\n",
        "\n",
        "    \"\"\"\n",
        "      Processes text before vectorization.\n",
        "    \"\"\"\n",
        "    # French text contains special symbols. Unicode normalization:\n",
        "    text = tf_text.normalize_utf8(text, \"NFKD\")\n",
        "\n",
        "    # Lowercase\n",
        "    text = tf.strings.lower(text)\n",
        "\n",
        "    # Keep space, a to z, and select punctuation and square brackets.\n",
        "    text = tf.strings.regex_replace(text, \"[^ a-z.?!,\\]\\[]\", \"\")\n",
        "\n",
        "    # Add spaces around punctuation.\n",
        "    text = tf.strings.regex_replace(text, \"[.?!,]\", r\" \\0 \")\n",
        "\n",
        "    # Strip whitespace.\n",
        "    text = tf.strings.strip(text)\n",
        "\n",
        "    return text"
      ],
      "metadata": {
        "id": "rJdjBY88q0lE"
      },
      "id": "rJdjBY88q0lE",
      "execution_count": 13,
      "outputs": []
    },
    {
      "cell_type": "markdown",
      "source": [
        "Vectorizing the text data\n",
        "Using two instances of the TextVectorization layer to vectorize the text data (one for English and one for French), that is to say, to turn the original strings into integer sequences where each integer represents the index of a word in a vocabulary.\n",
        "\n",
        "Both English and French  layer will use our custom standardization defined above.\n",
        "\n",
        "All inputs will be of the same length -\n",
        "\n",
        "*output_sequence_length*\n",
        "\n",
        "Only valid in INT mode. If set, the output will have its time dimension padded or truncated to exactly output_sequence_length values, resulting in a tensor of shape (batch_size, output_sequence_length) regardless of how many tokens resulted from the splitting step. Defaults to None.\n",
        "\n",
        "`sequence_length + 1` is to shift words by 1 for next word prediction"
      ],
      "metadata": {
        "id": "6zjxrXysB24_"
      },
      "id": "6zjxrXysB24_"
    },
    {
      "cell_type": "code",
      "source": [
        "vocab_size = 15000\n",
        "sequence_length = 20\n",
        "batch_size = 64\n",
        "\n",
        "eng_vectorization = TextVectorization(\n",
        "    max_tokens = vocab_size,\n",
        "    output_mode = \"int\",\n",
        "    output_sequence_length = sequence_length,\n",
        "    standardize = tf_lower_and_split_punct\n",
        ")\n",
        "\n",
        "fra_vectorization = TextVectorization(\n",
        "    max_tokens = vocab_size,\n",
        "    output_mode = \"int\",\n",
        "    output_sequence_length = sequence_length + 1,\n",
        "    standardize = tf_lower_and_split_punct,\n",
        ")\n"
      ],
      "metadata": {
        "id": "gFppv3IjyQj2"
      },
      "id": "gFppv3IjyQj2",
      "execution_count": 14,
      "outputs": []
    },
    {
      "cell_type": "markdown",
      "source": [
        "Creating both eng and french vocabularies using training data"
      ],
      "metadata": {
        "id": "4-IUL9IYVNwU"
      },
      "id": "4-IUL9IYVNwU"
    },
    {
      "cell_type": "code",
      "source": [
        "train_eng_texts = [pair[0] for pair in train_pairs]\n",
        "train_fra_texts = [pair[1] for pair in train_pairs]\n",
        "\n",
        "eng_vectorization.adapt(train_eng_texts)\n",
        "fra_vectorization.adapt(train_fra_texts)"
      ],
      "metadata": {
        "id": "hkwhCKZXHTl8"
      },
      "id": "hkwhCKZXHTl8",
      "execution_count": 15,
      "outputs": []
    },
    {
      "cell_type": "markdown",
      "source": [
        "Checking the english vocabulary"
      ],
      "metadata": {
        "id": "JN14OJr9VQzb"
      },
      "id": "JN14OJr9VQzb"
    },
    {
      "cell_type": "code",
      "source": [
        "vocab_inp_size = len(eng_vectorization.get_vocabulary())\n",
        "\n",
        "vocab_inp_size"
      ],
      "metadata": {
        "id": "t5sYaakYAPym",
        "colab": {
          "base_uri": "https://localhost:8080/"
        },
        "outputId": "28e943db-3956-4348-d3cb-3176e806d275"
      },
      "id": "t5sYaakYAPym",
      "execution_count": 16,
      "outputs": [
        {
          "output_type": "execute_result",
          "data": {
            "text/plain": [
              "12692"
            ]
          },
          "metadata": {},
          "execution_count": 16
        }
      ]
    },
    {
      "cell_type": "code",
      "source": [
        "eng_vectorization.get_vocabulary()[:15]"
      ],
      "metadata": {
        "id": "fTcqkr3rVWxd",
        "colab": {
          "base_uri": "https://localhost:8080/"
        },
        "outputId": "b88fe873-bcc3-4102-bc40-9c342af1998a"
      },
      "id": "fTcqkr3rVWxd",
      "execution_count": 17,
      "outputs": [
        {
          "output_type": "execute_result",
          "data": {
            "text/plain": [
              "['',\n",
              " '[UNK]',\n",
              " '.',\n",
              " 'i',\n",
              " 'you',\n",
              " 'to',\n",
              " 'the',\n",
              " '?',\n",
              " 'a',\n",
              " 'is',\n",
              " 'tom',\n",
              " 'that',\n",
              " 'he',\n",
              " 'do',\n",
              " 'of']"
            ]
          },
          "metadata": {},
          "execution_count": 17
        }
      ]
    },
    {
      "cell_type": "markdown",
      "source": [
        "Checking the french vocabulary"
      ],
      "metadata": {
        "id": "NAWSFe4sVfwe"
      },
      "id": "NAWSFe4sVfwe"
    },
    {
      "cell_type": "code",
      "source": [
        "vocab_out_size = len(fra_vectorization.get_vocabulary())\n",
        "\n",
        "vocab_out_size"
      ],
      "metadata": {
        "id": "tgZH9FaWVhzt",
        "colab": {
          "base_uri": "https://localhost:8080/"
        },
        "outputId": "11067888-15aa-4dcc-e574-0fa6357d373d"
      },
      "id": "tgZH9FaWVhzt",
      "execution_count": 18,
      "outputs": [
        {
          "output_type": "execute_result",
          "data": {
            "text/plain": [
              "15000"
            ]
          },
          "metadata": {},
          "execution_count": 18
        }
      ]
    },
    {
      "cell_type": "code",
      "source": [
        "fra_vectorization.get_vocabulary()[:15]"
      ],
      "metadata": {
        "id": "QxhdNNGyVlKQ",
        "colab": {
          "base_uri": "https://localhost:8080/"
        },
        "outputId": "6c99fbf2-674b-4819-d0ee-7bd7be6a319a"
      },
      "id": "QxhdNNGyVlKQ",
      "execution_count": 19,
      "outputs": [
        {
          "output_type": "execute_result",
          "data": {
            "text/plain": [
              "['',\n",
              " '[UNK]',\n",
              " '[start]',\n",
              " '[end]',\n",
              " '.',\n",
              " 'je',\n",
              " 'de',\n",
              " 'a',\n",
              " '?',\n",
              " 'pas',\n",
              " 'que',\n",
              " 'la',\n",
              " 'ne',\n",
              " 'le',\n",
              " 'vous']"
            ]
          },
          "metadata": {},
          "execution_count": 19
        }
      ]
    },
    {
      "cell_type": "markdown",
      "source": [
        "Next, formatting our datasets.\n",
        "\n",
        "At each training step, the model will seek to predict target words N+1 (and beyond) using the source sentence and the target words 0 to N.\n",
        "\n",
        "As such, the training dataset will yield a tuple (inputs, targets), where:\n",
        "\n",
        "- inputs is a dictionary with the keys encoder_inputs and decoder_inputs.\n",
        "- encoder_inputs is the vectorized source sentence and decoder_inputs is the target sentence \"so far\", that is to say, the words 0 to N used to predict word N+1 (and beyond) in the target sentence.\n",
        "- target is the target sentence offset by one step: it provides the next words in the target sentence — what the model will try to predict."
      ],
      "metadata": {
        "id": "QEigEQoyVn4z"
      },
      "id": "QEigEQoyVn4z"
    },
    {
      "cell_type": "code",
      "source": [
        "import tensorflow as tf\n",
        "\n",
        "def format_dataset(eng, fra):\n",
        "    eng = eng_vectorization(eng)\n",
        "    fra = fra_vectorization(fra)\n",
        "\n",
        "    # (english tokens, french tokens, french tokens shifted by 1)\n",
        "    return eng, fra[:, :-1], fra[:, 1:]\n",
        "\n",
        "def make_dataset(pairs):\n",
        "    eng_texts, fra_texts = zip(*pairs)\n",
        "\n",
        "    eng_texts = list(eng_texts)\n",
        "    fra_texts = list(fra_texts)\n",
        "\n",
        "    dataset = tf.data.Dataset.from_tensor_slices((eng_texts, fra_texts))\n",
        "\n",
        "    dataset = dataset.batch(batch_size, drop_remainder = True)\n",
        "\n",
        "    dataset = dataset.map(format_dataset)\n",
        "\n",
        "    return dataset.shuffle(2048).prefetch(16).cache()\n",
        "\n",
        "train_ds = make_dataset(train_pairs)\n",
        "val_ds = make_dataset(val_pairs)\n",
        "test_ds = make_dataset(test_pairs)"
      ],
      "metadata": {
        "id": "9hOnoFfjGVNC"
      },
      "id": "9hOnoFfjGVNC",
      "execution_count": 20,
      "outputs": []
    },
    {
      "cell_type": "code",
      "source": [
        "encoder_inputs, decoder_inputs, targets = next(iter(train_ds))\n",
        "\n",
        "encoder_inputs.shape, decoder_inputs.shape, targets.shape"
      ],
      "metadata": {
        "id": "px4RvV9mV1fK",
        "colab": {
          "base_uri": "https://localhost:8080/"
        },
        "outputId": "0b9314c0-f537-4d2d-c764-a7b2751ab533"
      },
      "id": "px4RvV9mV1fK",
      "execution_count": 21,
      "outputs": [
        {
          "output_type": "execute_result",
          "data": {
            "text/plain": [
              "(TensorShape([64, 20]), TensorShape([64, 20]), TensorShape([64, 20]))"
            ]
          },
          "metadata": {},
          "execution_count": 21
        }
      ]
    },
    {
      "cell_type": "markdown",
      "source": [
        "Checking the inputs and targets..Note that target is offset by one step from decoder_inputs"
      ],
      "metadata": {
        "id": "HRK9Lk_wV-ye"
      },
      "id": "HRK9Lk_wV-ye"
    },
    {
      "cell_type": "code",
      "source": [
        "encoder_inputs"
      ],
      "metadata": {
        "id": "nI69Jfc_V__i",
        "colab": {
          "base_uri": "https://localhost:8080/"
        },
        "outputId": "923cc747-1cb5-408d-9c26-95f7b0503f41"
      },
      "id": "nI69Jfc_V__i",
      "execution_count": 22,
      "outputs": [
        {
          "output_type": "execute_result",
          "data": {
            "text/plain": [
              "<tf.Tensor: shape=(64, 20), dtype=int64, numpy=\n",
              "array([[  44,  246, 1082, ...,    0,    0,    0],\n",
              "       [  12,  463,   42, ...,    0,    0,    0],\n",
              "       [  28,  122,  205, ...,    0,    0,    0],\n",
              "       ...,\n",
              "       [ 155,   10,  145, ...,    0,    0,    0],\n",
              "       [ 757,   14,  164, ...,    0,    0,    0],\n",
              "       [   5,   78,    6, ...,    0,    0,    0]])>"
            ]
          },
          "metadata": {},
          "execution_count": 22
        }
      ]
    },
    {
      "cell_type": "code",
      "source": [
        "decoder_inputs"
      ],
      "metadata": {
        "id": "vNLtyk5fWDIm",
        "colab": {
          "base_uri": "https://localhost:8080/"
        },
        "outputId": "ed089191-279c-4159-9e4d-f45cf9a79dfb"
      },
      "id": "vNLtyk5fWDIm",
      "execution_count": 23,
      "outputs": [
        {
          "output_type": "execute_result",
          "data": {
            "text/plain": [
              "<tf.Tensor: shape=(64, 20), dtype=int64, numpy=\n",
              "array([[   2,  166,    9, ...,    0,    0,    0],\n",
              "       [   2,   15,  512, ...,    0,    0,    0],\n",
              "       [   2,    5,   29, ...,    0,    0,    0],\n",
              "       ...,\n",
              "       [   2,   92,   10, ...,    0,    0,    0],\n",
              "       [   2,   11, 1017, ...,    0,    0,    0],\n",
              "       [   2,    7,   85, ...,    0,    0,    0]])>"
            ]
          },
          "metadata": {},
          "execution_count": 23
        }
      ]
    },
    {
      "cell_type": "code",
      "source": [
        "targets"
      ],
      "metadata": {
        "id": "DMSTJdGJWGdA",
        "colab": {
          "base_uri": "https://localhost:8080/"
        },
        "outputId": "973dedaa-9dee-4ddb-dabc-99be2f9afc97"
      },
      "id": "DMSTJdGJWGdA",
      "execution_count": 24,
      "outputs": [
        {
          "output_type": "execute_result",
          "data": {
            "text/plain": [
              "<tf.Tensor: shape=(64, 20), dtype=int64, numpy=\n",
              "array([[ 166,    9, 1806, ...,    0,    0,    0],\n",
              "       [  15,  512,   47, ...,    0,    0,    0],\n",
              "       [   5,   29,  392, ...,    0,    0,    0],\n",
              "       ...,\n",
              "       [  92,   10,   16, ...,    0,    0,    0],\n",
              "       [  11, 1017,  705, ...,    0,    0,    0],\n",
              "       [   7,   85,  318, ...,    0,    0,    0]])>"
            ]
          },
          "metadata": {},
          "execution_count": 24
        }
      ]
    },
    {
      "cell_type": "markdown",
      "source": [
        "The encoder\n",
        "\n",
        "The goal of the encoder is to process the context sequence into a sequence of vectors that are useful for the decoder as it attempts to predict the next output for each timestep\n",
        "\n",
        "Layers of recurrent units where in each time step, receive a an input token, collects relevant information and produce a hidden state. Depends on the type of RNN, in our example a LSTM, the unit \"mixes\" the current hidden state and the input and return an output, discarded, and a new hidden state.\n",
        "\n",
        "Encoder vector is the last hidden state of the encoder and it tries to contain as much of the useful input information as possible to help the decoder get the best results. It is only information from the input that the decoder will get."
      ],
      "metadata": {
        "id": "W3Xe3nDlbXdb"
      },
      "id": "W3Xe3nDlbXdb"
    },
    {
      "cell_type": "code",
      "source": [
        "class Encoder(tf.keras.Model):\n",
        "    def __init__(self, vocab_size, embedding_dim, hidden_dim):\n",
        "        super(Encoder, self).__init__()\n",
        "\n",
        "        self.hidden_dim = hidden_dim\n",
        "\n",
        "        # Define the embedding layer\n",
        "        self.embedding = layers.Embedding(vocab_size, embedding_dim)\n",
        "\n",
        "        # Define the RNN layer with LSTM cells\n",
        "        self.lstm = layers.LSTM(\n",
        "            hidden_dim, return_sequences = True, return_state = True)\n",
        "\n",
        "    def call(self, input_sequence, states):\n",
        "\n",
        "        # Input shape: (batch_size, sequence_length)\n",
        "\n",
        "        # Embed the input\n",
        "        embed = self.embedding(input_sequence)\n",
        "\n",
        "        # Embed shape: (batch_size, sequence_length, embedding_dim)\n",
        "\n",
        "        # Call the LSTM unit\n",
        "        output, state_h, state_c = self.lstm(embed, initial_state = states)\n",
        "\n",
        "        # Output shape: (batch_size, sequence_length, hidden_dim)\n",
        "        # state_h shape: (batch_size, hidden_dim)\n",
        "        # state_c shape: (batch_size, hidden_dim)\n",
        "\n",
        "        return output, state_h, state_c\n",
        "\n",
        "    def init_states(self, batch_size):\n",
        "\n",
        "        # Return all 0s initial states\n",
        "        return (\n",
        "            tf.zeros([batch_size, self.hidden_dim]),\n",
        "            tf.zeros([batch_size, self.hidden_dim])\n",
        "        )"
      ],
      "metadata": {
        "id": "EdXdxvM63UPd"
      },
      "id": "EdXdxvM63UPd",
      "execution_count": 25,
      "outputs": []
    },
    {
      "cell_type": "markdown",
      "source": [
        " We have included a simple test, calling the encoder and decoder to check they works fine."
      ],
      "metadata": {
        "id": "HQiv8udeDyVv"
      },
      "id": "HQiv8udeDyVv"
    },
    {
      "cell_type": "code",
      "source": [
        "embedding_dim = 128\n",
        "hidden_units = 256\n",
        "\n",
        "# Create the Encoder\n",
        "encoder = Encoder(vocab_inp_size, embedding_dim, hidden_units)\n",
        "\n",
        "# Getting initial states\n",
        "initial_state = encoder.init_states(batch_size = 1)\n",
        "\n",
        "# Call the encoder for testing\n",
        "test_encoder_output = encoder(tf.constant(\n",
        "    [[1, 5, 10, 15, 20, 25]]), initial_state)\n",
        "\n",
        "# outputs, state_h, state_c\n",
        "test_encoder_output[0].shape, test_encoder_output[2].shape, test_encoder_output[2].shape"
      ],
      "metadata": {
        "id": "IGEDfHMC1CPE",
        "colab": {
          "base_uri": "https://localhost:8080/"
        },
        "outputId": "bac440d4-205c-48ca-b19d-7c921b9dd7c9"
      },
      "id": "IGEDfHMC1CPE",
      "execution_count": 26,
      "outputs": [
        {
          "output_type": "execute_result",
          "data": {
            "text/plain": [
              "(TensorShape([1, 6, 256]), TensorShape([1, 256]), TensorShape([1, 256]))"
            ]
          },
          "metadata": {},
          "execution_count": 26
        }
      ]
    },
    {
      "cell_type": "markdown",
      "source": [
        "Decoder network without Attention.\n",
        "Layers of recurrent units, i.e. LSTMs, where each unit produces an output at a time step t. The hidden state of the first unit is the encoder vector and the rest of units accept the hidden state from the previous unit. The output is calculated using a softmax function to obtain a probability for every token in the output vocabulary."
      ],
      "metadata": {
        "id": "9L7VA9cez9TP"
      },
      "id": "9L7VA9cez9TP"
    },
    {
      "cell_type": "code",
      "source": [
        "class Decoder(tf.keras.Model):\n",
        "    def __init__(self, vocab_size, embedding_dim, hidden_dim):\n",
        "        super(Decoder, self).__init__()\n",
        "\n",
        "        self.hidden_dim = hidden_dim\n",
        "\n",
        "        # Define the embedding layer\n",
        "        self.embedding = layers.Embedding(vocab_size, embedding_dim)\n",
        "\n",
        "        # Define the RNN layer with LSTM cell\n",
        "        self.lstm = layers.LSTM(\n",
        "            hidden_dim, return_sequences = True, return_state = True)\n",
        "\n",
        "        self.dense = layers.Dense(vocab_size)\n",
        "\n",
        "    def call(self, input_sequence, state):\n",
        "\n",
        "        # Input shape: (batch_size, sequence_length)\n",
        "\n",
        "        # Embed the input\n",
        "        embed = self.embedding(input_sequence)\n",
        "\n",
        "        # Embed shape: (batch_size, sequence_length, embedding_dim)\n",
        "\n",
        "        # Call the LSTM unit\n",
        "        lstm_out, state_h, state_c = self.lstm(embed, state)\n",
        "\n",
        "        # lstm_out shape: (batch_size, sequence_length, hidden_dim)\n",
        "        # state_h shape: (batch_size, hidden_dim)\n",
        "        # state_c shape: (batch_size, hidden_dim)\n",
        "\n",
        "        # Dense layer to predict output token\n",
        "        outputs = self.dense(lstm_out)\n",
        "\n",
        "        # Output shape: (batch_size, sequence_length, vocab_size)\n",
        "\n",
        "        return outputs, state_h, state_c"
      ],
      "metadata": {
        "id": "5hyGDMYhydul"
      },
      "id": "5hyGDMYhydul",
      "execution_count": 27,
      "outputs": []
    },
    {
      "cell_type": "code",
      "source": [
        "# Create the Decoder\n",
        "decoder = Decoder(vocab_out_size, embedding_dim, hidden_units)\n",
        "\n",
        "# Get the initial states\n",
        "de_initial_state = test_encoder_output[1:]\n",
        "\n",
        "# Call the decoder for testing\n",
        "test_decoder_output = decoder(tf.constant(\n",
        "    [[1, 6, 12, 18, 24, 30, 36, 42]]), de_initial_state)\n",
        "\n",
        "test_decoder_output[0].shape, test_decoder_output[2].shape, test_decoder_output[2].shape"
      ],
      "metadata": {
        "id": "k_3F0uZFMipv",
        "colab": {
          "base_uri": "https://localhost:8080/"
        },
        "outputId": "6186096a-adaf-4782-c051-a059e63f6437"
      },
      "id": "k_3F0uZFMipv",
      "execution_count": 28,
      "outputs": [
        {
          "output_type": "execute_result",
          "data": {
            "text/plain": [
              "(TensorShape([1, 8, 15000]), TensorShape([1, 256]), TensorShape([1, 256]))"
            ]
          },
          "metadata": {},
          "execution_count": 28
        }
      ]
    },
    {
      "cell_type": "markdown",
      "source": [
        "Now we need to define a custom loss function to avoid taking into account the 0 values, padding values, when calculating the loss. And also we define a custom accuracy function."
      ],
      "metadata": {
        "id": "gR2_vkaEM1A-"
      },
      "id": "gR2_vkaEM1A-"
    },
    {
      "cell_type": "code",
      "source": [
        "from tensorflow.keras import backend as K\n",
        "\n",
        "def loss_func(targets, logits):\n",
        "    crossentropy = tf.keras.losses.SparseCategoricalCrossentropy(\n",
        "        from_logits = True)\n",
        "\n",
        "    # Mask padding values, they should not be included in the loss\n",
        "    # In the mask all values equal to 0 in vector will be 0, rest 1\n",
        "    mask = tf.math.logical_not(tf.math.equal(targets, 0))\n",
        "    mask = tf.cast(mask, dtype = tf.int64)\n",
        "\n",
        "    # Calculate the loss value\n",
        "    loss = crossentropy(targets, logits, sample_weight = mask)\n",
        "\n",
        "    return loss\n",
        "\n",
        "def accuracy_fn(y_true, y_pred):\n",
        "    # y_pred shape: (batch_size, sequence_length, vocab_size)\n",
        "    # y_true shape: (batch_size, sequence_length)\n",
        "\n",
        "    # Get predicted tokens shape: (batch_size, sequence_length)\n",
        "    pred_values = K.cast(K.argmax(y_pred, axis = -1), dtype = \"int64\")\n",
        "\n",
        "    correct = K.cast(K.equal(y_true, pred_values), dtype = \"float32\")\n",
        "\n",
        "    # 0 is padding, don't include those, everything else\n",
        "    # will be an integer token\n",
        "    mask = K.cast(K.greater(y_true, 0), dtype = \"float32\")\n",
        "\n",
        "    # Number of correct words predicted\n",
        "    n_correct = K.sum(mask * correct)\n",
        "\n",
        "    # Total number of words\n",
        "    n_total = K.sum(mask)\n",
        "\n",
        "    return n_correct / n_total"
      ],
      "metadata": {
        "id": "YpnL2VVQ1CGM"
      },
      "id": "YpnL2VVQ1CGM",
      "execution_count": 29,
      "outputs": []
    },
    {
      "cell_type": "markdown",
      "source": [
        "We create a function that is used for  the training of a batch of the data\n",
        "- Calling the encoder for the batch input sequence, the output is the encoded vector.\n",
        "- Setting  the decoder initial states to the encoded vector\n",
        "- Calling  the decoder, taking the right shifted target sequence as input. The output are the logits (the softmax function is applied in the loss function)\n",
        "- Calculating the loss and accuracy of the batch data\n",
        "- Update the learnable parameters of the encoder and the decoder\n",
        "- update the optimizer.\n",
        "Using the @tf.function decorator to take advance of static graph computation"
      ],
      "metadata": {
        "id": "IsKTCz6vNbeJ"
      },
      "id": "IsKTCz6vNbeJ"
    },
    {
      "cell_type": "code",
      "source": [
        "@tf.function\n",
        "def train_step(input_seq, target_seq_in, target_seq_out, en_initial_states, optimizer):\n",
        "\n",
        "    # Network’s computations need to be put under tf.GradientTape() to keep track of gradients\n",
        "    with tf.GradientTape() as tape:\n",
        "\n",
        "        # Get the encoder outputs\n",
        "        en_outputs = encoder(input_seq, en_initial_states)\n",
        "\n",
        "        # Get the hidden states of the encoder to pass to the decoder\n",
        "        de_states = en_outputs[1:]\n",
        "\n",
        "        # Get the decoder outputs\n",
        "        de_outputs = decoder(target_seq_in, de_states)\n",
        "\n",
        "        # Take the actual output\n",
        "        logits = de_outputs[0]\n",
        "\n",
        "        # Calculate the loss and accuracy\n",
        "        loss = loss_func(target_seq_out, logits)\n",
        "        acc = accuracy_fn(target_seq_out, logits)\n",
        "\n",
        "    variables = encoder.trainable_variables + decoder.trainable_variables\n",
        "\n",
        "    # Calculate the gradients for the variables\n",
        "    gradients = tape.gradient(loss, variables)\n",
        "\n",
        "    # Apply the gradients and update the optimizer\n",
        "    optimizer.apply_gradients(zip(gradients, variables))\n",
        "\n",
        "    return loss, acc"
      ],
      "metadata": {
        "id": "-CQftTre4THP"
      },
      "id": "-CQftTre4THP",
      "execution_count": 30,
      "outputs": []
    },
    {
      "cell_type": "markdown",
      "source": [
        "validation step function is defined.  Note that in the validation step, you don\"t need to update the model or apply gradients"
      ],
      "metadata": {
        "id": "LFhfEV_xOCdw"
      },
      "id": "LFhfEV_xOCdw"
    },
    {
      "cell_type": "code",
      "source": [
        "@tf.function\n",
        "def valid_step(val_input_seq, val_target_seq_in, val_target_seq_out, en_initial_states):\n",
        "\n",
        "    # Get the encoder outputs\n",
        "    en_outputs = encoder(val_input_seq, en_initial_states)\n",
        "\n",
        "    # Get the hidden states of the encoder to pass to the decoder\n",
        "    de_states = en_outputs[1:]\n",
        "\n",
        "    # Get the decoder outputs\n",
        "    de_outputs = decoder(val_target_seq_in, de_states)\n",
        "\n",
        "    # Take the actual output\n",
        "    logits = de_outputs[0]\n",
        "\n",
        "    # Calculate the loss function\n",
        "    valid_loss = loss_func(val_target_seq_out, logits)\n",
        "    valid_acc = accuracy_fn(val_target_seq_out, logits)\n",
        "\n",
        "    return valid_loss, valid_acc\n"
      ],
      "metadata": {
        "id": "Re3XU1eKTBmp"
      },
      "id": "Re3XU1eKTBmp",
      "execution_count": 31,
      "outputs": []
    },
    {
      "cell_type": "markdown",
      "source": [
        " Defining  an Adam optimizer"
      ],
      "metadata": {
        "id": "6xeoK2lxOWqP"
      },
      "id": "6xeoK2lxOWqP"
    },
    {
      "cell_type": "code",
      "source": [
        "optimizer = tf.keras.optimizers.Adam(clipnorm = 5.0)"
      ],
      "metadata": {
        "id": "iQIplKjn4TEL"
      },
      "id": "iQIplKjn4TEL",
      "execution_count": 32,
      "outputs": []
    },
    {
      "cell_type": "markdown",
      "source": [
        "Model is trained"
      ],
      "metadata": {
        "id": "Tt7F6zMazCj5"
      },
      "id": "Tt7F6zMazCj5"
    },
    {
      "cell_type": "code",
      "source": [
        "epoch_train_losses = []\n",
        "epoch_train_accuracies = []\n",
        "\n",
        "epoch_val_losses = []\n",
        "epoch_val_accuracies = []\n",
        "\n",
        "num_epochs = 7\n",
        "\n",
        "for epochs in range(num_epochs):\n",
        "\n",
        "    en_initial_states = encoder.init_states(batch_size)\n",
        "\n",
        "    train_losses = []\n",
        "    train_accuracies = []\n",
        "\n",
        "    for i, (input_seq, target_seq_in, target_seq_out) in enumerate(train_ds.take(-1)):\n",
        "        loss, accuracy = train_step(\n",
        "            input_seq, target_seq_in, target_seq_out, en_initial_states, optimizer)\n",
        "\n",
        "        train_losses.append(loss)\n",
        "        train_accuracies.append(accuracy)\n",
        "\n",
        "    # Calculate average training loss and accuracy\n",
        "    avg_train_loss = tf.reduce_mean(train_losses)\n",
        "    avg_train_accuracy = tf.reduce_mean(train_accuracies)\n",
        "\n",
        "    epoch_train_losses.append(avg_train_loss)\n",
        "    epoch_train_accuracies.append(avg_train_accuracy)\n",
        "\n",
        "    val_losses = []\n",
        "    val_accuracies = []\n",
        "\n",
        "    for j, (val_input_seq, val_target_seq_in, val_target_seq_out) in enumerate(val_ds.take(-1)):\n",
        "        valid_loss, valid_accuracy = valid_step(\n",
        "            val_input_seq, val_target_seq_in, val_target_seq_out, en_initial_states)\n",
        "\n",
        "        val_losses.append(valid_loss)\n",
        "        val_accuracies.append(valid_accuracy)\n",
        "\n",
        "    # Calculate average validation loss and accuracy\n",
        "    avg_val_loss = tf.reduce_mean(val_losses)\n",
        "    avg_val_accuracy = tf.reduce_mean(val_accuracies)\n",
        "\n",
        "    epoch_val_losses.append(avg_val_loss)\n",
        "    epoch_val_accuracies.append(avg_val_accuracy)\n",
        "\n",
        "    print(\"Epoch {} \"\n",
        "          \"Avg Train Loss: {:.4f} \"\n",
        "          \"Avg Train Acc: {:.4f}  \"\n",
        "          \"Avg Validation Loss: {:.4f}  \"\n",
        "          \"Avg Val Acc: {:.4f}\".format(\n",
        "              epochs + 1,\n",
        "              avg_train_loss.numpy(),\n",
        "              avg_train_accuracy.numpy(),\n",
        "              avg_val_loss.numpy(),\n",
        "              avg_val_accuracy.numpy())\n",
        "    )"
      ],
      "metadata": {
        "id": "zeY9eSqW1Shz",
        "colab": {
          "base_uri": "https://localhost:8080/"
        },
        "outputId": "6337e1b7-a8d1-4dac-e227-5f2def11d699"
      },
      "id": "zeY9eSqW1Shz",
      "execution_count": 33,
      "outputs": [
        {
          "output_type": "stream",
          "name": "stdout",
          "text": [
            "Epoch 1 Avg Train Loss: 1.9146 Avg Train Acc: 0.2981  Avg Validation Loss: 1.6141  Avg Val Acc: 0.3554\n",
            "Epoch 2 Avg Train Loss: 1.4635 Avg Train Acc: 0.4024  Avg Validation Loss: 1.3208  Avg Val Acc: 0.4411\n",
            "Epoch 3 Avg Train Loss: 1.2300 Avg Train Acc: 0.4676  Avg Validation Loss: 1.1797  Avg Val Acc: 0.4851\n",
            "Epoch 4 Avg Train Loss: 1.0754 Avg Train Acc: 0.5102  Avg Validation Loss: 1.0791  Avg Val Acc: 0.5179\n",
            "Epoch 5 Avg Train Loss: 0.9481 Avg Train Acc: 0.5488  Avg Validation Loss: 0.9978  Avg Val Acc: 0.5471\n",
            "Epoch 6 Avg Train Loss: 0.8331 Avg Train Acc: 0.5868  Avg Validation Loss: 0.9319  Avg Val Acc: 0.5723\n",
            "Epoch 7 Avg Train Loss: 0.7330 Avg Train Acc: 0.6222  Avg Validation Loss: 0.8843  Avg Val Acc: 0.5920\n"
          ]
        }
      ]
    },
    {
      "cell_type": "markdown",
      "source": [
        "Plotting Training and Validation  losses and accuracies wrt epochs"
      ],
      "metadata": {
        "id": "ZJfbIaTTOspF"
      },
      "id": "ZJfbIaTTOspF"
    },
    {
      "cell_type": "code",
      "source": [
        "import matplotlib.pyplot as plt\n",
        "\n",
        "fig, (ax1, ax2) = plt.subplots(1, 2, figsize = (15, 5))\n",
        "\n",
        "# losses\n",
        "ax1.plot(epoch_train_losses, label = \"train_loss\")\n",
        "ax1.plot(epoch_val_losses, label = \"valid_loss\")\n",
        "ax1.set_title(\"Training and Validation Loss\")\n",
        "ax1.legend()\n",
        "\n",
        "# accuracies\n",
        "ax2.plot(epoch_train_accuracies, label = \"train_acc\")\n",
        "ax2.plot(epoch_val_accuracies, label = \"val_acc\")\n",
        "ax2.set_title(\"Training and Validation Accuracy\")\n",
        "ax2.legend()\n",
        "plt.show()"
      ],
      "metadata": {
        "id": "E1haf9jv4S-Y",
        "colab": {
          "base_uri": "https://localhost:8080/",
          "height": 468
        },
        "outputId": "f829524b-e03a-45c5-88cc-acdb1dc25b39"
      },
      "id": "E1haf9jv4S-Y",
      "execution_count": 34,
      "outputs": [
        {
          "output_type": "display_data",
          "data": {
            "text/plain": [
              "<Figure size 1500x500 with 2 Axes>"
            ],
            "image/png": "[encoded data removed]"
          },
          "metadata": {}
        }
      ]
    },
    {
      "cell_type": "code",
      "source": [
        "def translate_sentence(input_sentence, decoded_max_len):\n",
        "    # Tokenize the input sequence\n",
        "    tokenized_input_sentence = eng_vectorization([input_sentence])\n",
        "\n",
        "    # Get the encoder initial states\n",
        "    en_initial_states = encoder.init_states(1)\n",
        "\n",
        "    # Get the encoder outputs (including hidden states)\n",
        "    en_outputs = encoder(tf.constant(tokenized_input_sentence), en_initial_states)\n",
        "\n",
        "    # Set the initial hidden states of the decoder to the hidden states of the encoder\n",
        "    de_state_h, de_state_c = en_outputs[1:]\n",
        "\n",
        "    # Create the decoder input, the sos token\n",
        "    de_input = tf.constant([[fra_vectorization.get_vocabulary().index(\"[start]\")]])\n",
        "\n",
        "    out_words = []\n",
        "\n",
        "    while True:\n",
        "        # Decode and get the output probabilities\n",
        "        de_output, de_state_h, de_state_c = decoder(\n",
        "            de_input, (de_state_h, de_state_c))\n",
        "\n",
        "        # Select the word with the highest probability\n",
        "        de_input = tf.argmax(de_output, -1)\n",
        "\n",
        "        # Append the word to the predicted output\n",
        "        out_words.append(fra_index_lookup[de_input.numpy()[0][0]])\n",
        "\n",
        "        # Finish when eos token is found or the max length is reached\n",
        "        if out_words[-1] == \"[end]\" or len(out_words) >= decoded_max_len:\n",
        "            break\n",
        "\n",
        "    print(\"Input :\", input_sentence[0])\n",
        "    print(\"Predicted translation :\", \" \".join(out_words))"
      ],
      "metadata": {
        "id": "4fOwLQQXnvAU"
      },
      "id": "4fOwLQQXnvAU",
      "execution_count": 35,
      "outputs": []
    },
    {
      "cell_type": "code",
      "source": [
        "test_eng_texts = [pair[0] for pair in test_pairs]\n",
        "test_fra_texts = [pair[1] for pair in test_pairs]\n",
        "\n",
        "fra_vocab = fra_vectorization.get_vocabulary()\n",
        "fra_index_lookup = dict(zip(range(len(fra_vocab)), fra_vocab))\n",
        "\n",
        "for _ in range(30):\n",
        "\n",
        "    # Choose a random index\n",
        "    random_index = random.randint(0, len(test_eng_texts) - 1)\n",
        "\n",
        "    input_text = test_eng_texts[random_index]\n",
        "    target_text = test_fra_texts[random_index]\n",
        "    test_sents = [input_text]\n",
        "\n",
        "    translate_sentence(test_sents, 20)\n",
        "    print(\"Actual translation :\", target_text)\n",
        "    print()"
      ],
      "metadata": {
        "colab": {
          "base_uri": "https://localhost:8080/"
        },
        "id": "RW-NJRLfsSFV",
        "outputId": "9376643e-ced1-457b-b053-5ec51794a587"
      },
      "id": "RW-NJRLfsSFV",
      "execution_count": 36,
      "outputs": [
        {
          "output_type": "stream",
          "name": "stdout",
          "text": [
            "Input : She had a headache from lack of sleep.\n",
            "Predicted translation : elle a eu un tres bon de la chance pour le faire . [end]\n",
            "Actual translation : [start] Elle avait un mal de tête dû au manque de sommeil. [end]\n",
            "\n",
            "Input : I don't like people looking at me.\n",
            "Predicted translation : je naime pas la facon de jouer . [end]\n",
            "Actual translation : [start] Je n'apprécie pas que les gens me regardent. [end]\n",
            "\n",
            "Input : Bring me another fork, please.\n",
            "Predicted translation : apportezmoi une autre tasse de cafe ! [end]\n",
            "Actual translation : [start] Apportez-moi une autre fourchette, je vous en prie. [end]\n",
            "\n",
            "Input : Where are the apples?\n",
            "Predicted translation : ou sont les pommes ? [end]\n",
            "Actual translation : [start] Où sont les pommes ? [end]\n",
            "\n",
            "Input : If he is innocent, it follows that his wife is guilty.\n",
            "Predicted translation : sil est a la derniere fois que tu [UNK] . [end]\n",
            "Actual translation : [start] S'il est innocent, c'est donc sa femme qui est coupable. [end]\n",
            "\n",
            "Input : Do you know who is looking at that picture?\n",
            "Predicted translation : saistu qui a peint la table ? [end]\n",
            "Actual translation : [start] Sais-tu qui est en train de regarder cette image ? [end]\n",
            "\n",
            "Input : I got up very early this morning.\n",
            "Predicted translation : je me suis leve tot , mais il etait malade . [end]\n",
            "Actual translation : [start] Je me suis levée fort tôt, ce matin. [end]\n",
            "\n",
            "Input : You never know what the future will bring.\n",
            "Predicted translation : tu ne sais jamais ce qui sest passe . [end]\n",
            "Actual translation : [start] On ne sait jamais ce que le futur apportera. [end]\n",
            "\n",
            "Input : The last one is the best.\n",
            "Predicted translation : le train est la plus belle . [end]\n",
            "Actual translation : [start] La dernière est la meilleure. [end]\n",
            "\n",
            "Input : He can stay here for one night, no longer.\n",
            "Predicted translation : il ne peut plus attendre ici avant que nous sommes alles au lit . [end]\n",
            "Actual translation : [start] Il peut rester ici pour une nuit, pas davantage. [end]\n",
            "\n",
            "Input : I never thought I'd ever see you again.\n",
            "Predicted translation : je nai jamais pense que je pourrais te parler plus tot . [end]\n",
            "Actual translation : [start] Je n'ai jamais pensé que je vous verrais à nouveau un jour. [end]\n",
            "\n",
            "Input : I left you a message at the front desk.\n",
            "Predicted translation : je vous ai apporte un livre sur le bureau . [end]\n",
            "Actual translation : [start] Je t'ai laissé une note à la réception. [end]\n",
            "\n",
            "Input : No matter how hard you may try, you won't succeed so easily.\n",
            "Predicted translation : quimporte le temps , tu devrais rester silencieux , un point cest tout . [end]\n",
            "Actual translation : [start] Tu auras beau essayer, tu ne réussiras pas aussi facilement. [end]\n",
            "\n",
            "Input : We should take a break.\n",
            "Predicted translation : nous devrions prendre une arme . [end]\n",
            "Actual translation : [start] On devrait faire une pause. [end]\n",
            "\n",
            "Input : You're very astute.\n",
            "Predicted translation : vous etes tres astucieuse . [end]\n",
            "Actual translation : [start] Vous êtes fort astucieuse. [end]\n",
            "\n",
            "Input : Tom nodded.\n",
            "Predicted translation : tom a gagne la tete . [end]\n",
            "Actual translation : [start] Tom hocha la tête. [end]\n",
            "\n",
            "Input : That's his specialty.\n",
            "Predicted translation : cest la loi . [end]\n",
            "Actual translation : [start] C'est sa spécialité. [end]\n",
            "\n",
            "Input : Stand back!\n",
            "Predicted translation : restez en contact ! [end]\n",
            "Actual translation : [start] Recule-toi ! [end]\n",
            "\n",
            "Input : You didn't turn in your homework.\n",
            "Predicted translation : vous netes pas ton ami a [UNK] . [end]\n",
            "Actual translation : [start] Vous n'avez pas rendu vos devoirs. [end]\n",
            "\n",
            "Input : Everything's ready.\n",
            "Predicted translation : tout est pret . [end]\n",
            "Actual translation : [start] Tout est prêt. [end]\n",
            "\n",
            "Input : Who are you working for now?\n",
            "Predicted translation : qui va faire ce soir ? [end]\n",
            "Actual translation : [start] Pour qui travailles-tu maintenant ? [end]\n",
            "\n",
            "Input : The baby is sleeping.\n",
            "Predicted translation : le bebe dort . [end]\n",
            "Actual translation : [start] Le bébé dort. [end]\n",
            "\n",
            "Input : It was quite easy for me to carry the plan out.\n",
            "Predicted translation : cetait un probleme facile pour moi . [end]\n",
            "Actual translation : [start] Il me fut très aisé d'exécuter le plan. [end]\n",
            "\n",
            "Input : He left his keys in the car.\n",
            "Predicted translation : il a laisse la maison a la maison . [end]\n",
            "Actual translation : [start] Il laissa ses clefs dans la voiture. [end]\n",
            "\n",
            "Input : It's a good system.\n",
            "Predicted translation : cest un bon boulot . [end]\n",
            "Actual translation : [start] C'est un bon système. [end]\n",
            "\n",
            "Input : I remember.\n",
            "Predicted translation : je me souviens de vue . [end]\n",
            "Actual translation : [start] Je m'en rappelle. [end]\n",
            "\n",
            "Input : We have a few surprises in store for her.\n",
            "Predicted translation : nous avons un besoin de [UNK] a cause de nos jours . [end]\n",
            "Actual translation : [start] Nous lui réservons quelques surprises. [end]\n",
            "\n",
            "Input : I'm no quitter.\n",
            "Predicted translation : je ne suis pas un peu desespere . [end]\n",
            "Actual translation : [start] Je ne baisse pas facilement les bras. [end]\n",
            "\n",
            "Input : Are we safe here?\n",
            "Predicted translation : sommesnous ici ? [end]\n",
            "Actual translation : [start] Sommes-nous ici en sécurité ? [end]\n",
            "\n",
            "Input : You should take singing lessons.\n",
            "Predicted translation : tu devrais apprendre a des enfants . [end]\n",
            "Actual translation : [start] Tu devrais prendre des cours de chant. [end]\n",
            "\n"
          ]
        }
      ]
    },
    {
      "cell_type": "markdown",
      "source": [
        "The previously described model based on RNNs has a serious problem when working with long sequences, because the information of the first tokens is lost or diluted as more tokens are processed. The context vector has been given the responsibility of encoding all the information in a given source sentence in to a vector of few hundred elements. it made it challenging for the models to deal with long sentences. A solution was proposed in Bahdanau et al., 2014 [4] and Luong et al., 2015,[5].\n",
        "\n",
        "\n",
        "They introduce a technique called \"Attention\", which highly improved the quality of machine translation systems. Attention allows the model to focus on the relevant parts of the input sequence as needed, accessing to all the past hidden states of the encoder, instead of just the last one. At each decoding step, the decoder gets to look at any particular state of the encoder and can selectively pick out specific elements from that sequence to produce the output. We will focus on the Luong perspective.\n"
      ],
      "metadata": {
        "id": "0SjWlsFkPsOP"
      },
      "id": "0SjWlsFkPsOP"
    },
    {
      "cell_type": "code",
      "source": [
        "class Attention(tf.keras.Model):\n",
        "    def __init__(self, hidden_dim):\n",
        "        super(Attention, self).__init__()\n",
        "\n",
        "        self.wa = layers.Dense(hidden_dim)\n",
        "\n",
        "    def call(self, decoder_output, encoder_output):\n",
        "        # General score function: decoder_output (dot) (Wa (dot) encoder_output)\n",
        "\n",
        "        # Decoder output is fed in one word at a time to attention layer\n",
        "        # decoder_output has shape: (batch_size, 1, hidden_dim)\n",
        "\n",
        "        # encoder_output has shape: (batch_size, sequence_length, hidden_dim)\n",
        "\n",
        "        # => score has shape: (batch_size, 1, sequence_length)\n",
        "        score = tf.matmul(\n",
        "            decoder_output,\n",
        "            self.wa(encoder_output), transpose_b = True\n",
        "        )\n",
        "\n",
        "        # alignment = softmax(score)\n",
        "        attention = tf.keras.activations.softmax(score, axis = -1)\n",
        "        # (batch_size, 1, sequence_length)\n",
        "\n",
        "        # context vector is the weighted average sum of encoder output\n",
        "        context = tf.matmul(attention, encoder_output)\n",
        "        # (batch_size, 1, hidden_dim)\n",
        "\n",
        "        return context, attention"
      ],
      "metadata": {
        "id": "_3Hg_Nl9Aq-Z"
      },
      "id": "_3Hg_Nl9Aq-Z",
      "execution_count": 37,
      "outputs": []
    },
    {
      "cell_type": "markdown",
      "source": [
        "For Decoder network with Attention mechanism\n",
        "- Creating the encoder hidden states as usual, one for every input token\n",
        "- Applying  a LSTM to produce a new hidden state, taking its previous hidden state and the target output from the previous time step\n",
        "- Calculating the attention scores as described previously\n",
        "- Calculating the context vector\n",
        "- Now the context vector is concatenated with the decoder hidden state we generated previously, then it is passed through a linear layer which acts as a classifier for us to obtain the probability scores of the next predicted word"
      ],
      "metadata": {
        "id": "S4EqSLdyRY5A"
      },
      "id": "S4EqSLdyRY5A"
    },
    {
      "cell_type": "code",
      "source": [
        "class Decoder(tf.keras.Model):\n",
        "    def __init__(self, vocab_size, embedding_dim, hidden_dim):\n",
        "        super(Decoder, self).__init__()\n",
        "\n",
        "        self.hidden_dim = hidden_dim\n",
        "\n",
        "        self.attention = Attention(hidden_dim)\n",
        "\n",
        "        self.embedding = layers.Embedding(vocab_size, embedding_dim)\n",
        "\n",
        "        self.lstm = layers.LSTM(\n",
        "            hidden_dim, return_sequences = True, return_state = True)\n",
        "\n",
        "        self.wc = layers.Dense(hidden_dim, activation = \"tanh\")\n",
        "        self.ws = layers.Dense(vocab_size)\n",
        "\n",
        "    def call(self, input_sequence, state, encoder_output):\n",
        "        # Remember that the input to the decoder\n",
        "        # is now a batch of one-word sequences,\n",
        "        # input_sequence shape: (batch_size, 1)\n",
        "\n",
        "        embed = self.embedding(input_sequence)\n",
        "        # embed shape: (batch_size, 1, embedding_dim)\n",
        "\n",
        "        lstm_out, state_h, state_c = self.lstm(embed, initial_state = state)\n",
        "        # lstm_out shape: (batch_size, 1, hidden_dim)\n",
        "\n",
        "        # Use self.attention to compute the context and alignment vectors\n",
        "        # context shape: (batch_size, 1, hidden_dim)\n",
        "        # alignment shape: (batch_size, 1, sequence_length)\n",
        "        context, attention = self.attention(lstm_out, encoder_output)\n",
        "\n",
        "        # Combine the context vector and the LSTM output\n",
        "        # Before combining, both have shape of (batch_size, 1, hidden_dim),\n",
        "        # so let;s squeeze the axis 1 first\n",
        "        # Shape after combining (batch_size, 2 * hidden_dim)\n",
        "        lstm_out = tf.concat(\n",
        "            [tf.squeeze(context, 1), tf.squeeze(lstm_out, 1)], 1)\n",
        "\n",
        "        # lstm_out now has shape (batch_size, hidden_dim)\n",
        "        lstm_out = self.wc(lstm_out)\n",
        "\n",
        "        # Converted back to vocabulary space: (batch_size, vocab_size)\n",
        "        outputs = self.ws(lstm_out)\n",
        "\n",
        "        return outputs, state_h, state_c, attention"
      ],
      "metadata": {
        "id": "Jj2BxEJYBiul"
      },
      "id": "Jj2BxEJYBiul",
      "execution_count": 38,
      "outputs": []
    },
    {
      "cell_type": "markdown",
      "source": [
        "Decoder is tested"
      ],
      "metadata": {
        "id": "1Kl0xP9vdAH0"
      },
      "id": "1Kl0xP9vdAH0"
    },
    {
      "cell_type": "code",
      "source": [
        "embedding_dim = 128\n",
        "hidden_units = 256\n",
        "\n",
        "encoder = Encoder(vocab_inp_size, embedding_dim, hidden_units)\n",
        "decoder = Decoder(vocab_out_size, embedding_dim, hidden_units)\n",
        "\n",
        "# Call the encoder and then the decoder\n",
        "initial_state = encoder.init_states(1)\n",
        "\n",
        "encoder_outputs = encoder(tf.constant([[1, 2, 3, 4, 5]]), initial_state)\n",
        "\n",
        "decoder_outputs = decoder(tf.constant(\n",
        "    [[2]]), encoder_outputs[1:], encoder_outputs[0])\n",
        "\n",
        "decoder_outputs[0].shape"
      ],
      "metadata": {
        "id": "Lhj9JfIu1UK4",
        "colab": {
          "base_uri": "https://localhost:8080/"
        },
        "outputId": "131a995c-1c8d-4945-80a8-457654c0bff5"
      },
      "id": "Lhj9JfIu1UK4",
      "execution_count": 39,
      "outputs": [
        {
          "output_type": "execute_result",
          "data": {
            "text/plain": [
              "TensorShape([1, 15000])"
            ]
          },
          "metadata": {},
          "execution_count": 39
        }
      ]
    },
    {
      "cell_type": "markdown",
      "source": [
        "Now we can define our step train function, to train a batch data. It is very similar to the one we coded for the seq2seq model without attention but this time we pass all the hidden states returned by the encoder to the decoder. And we need to create a loop to iterate through the target sequences, calling the decoder for each one and calculating the loss function comparing the decoder output to the expected target."
      ],
      "metadata": {
        "id": "rZxRxI-cTIPi"
      },
      "id": "rZxRxI-cTIPi"
    },
    {
      "cell_type": "code",
      "source": [
        "@tf.function\n",
        "def train_step(input_seq, target_seq_in, target_seq_out, en_initial_states, optimizer):\n",
        "    loss = 0.\n",
        "    acc = 0.\n",
        "    logits = None\n",
        "\n",
        "    en_initial_states = encoder.init_states(batch_size)\n",
        "\n",
        "    with tf.GradientTape() as tape:\n",
        "        en_outputs = encoder(input_seq, en_initial_states)\n",
        "\n",
        "        de_state_h, de_state_c = en_outputs[1:]\n",
        "\n",
        "        # Shape of target_seq_out (batch_size, sequence_length)\n",
        "\n",
        "        # Iterate over each word in the target sequence\n",
        "        for i in range(target_seq_out.shape[1]):\n",
        "\n",
        "            # Input to the decoder must have shape of (batch_size, 1)\n",
        "            # so we need to expand one dimension\n",
        "            # (batch_size, ) -> (batch_size, 1)\n",
        "            decoder_in = tf.expand_dims(target_seq_in[:, i], 1)\n",
        "\n",
        "            logit, de_state_h, de_state_c, _ = decoder(\n",
        "                decoder_in, (de_state_h, de_state_c), en_outputs[0])\n",
        "\n",
        "            # The loss is now accumulated through the whole batch\n",
        "            loss += loss_func(target_seq_out[:, i], logit)\n",
        "\n",
        "            # Store the logits to calculate the accuracy\n",
        "            # Shape (batch_size, vocab_size) -> (batch_size, 1, vocab_size)\n",
        "            logit = K.expand_dims(logit, axis = 1)\n",
        "\n",
        "            # Next word predicted in the output\n",
        "            # logit shape: (batch_size, 1, vocab_size)\n",
        "\n",
        "            if logits is None:\n",
        "                logits = logit\n",
        "            else:\n",
        "                logits = K.concatenate((logits, logit), axis = 1)\n",
        "\n",
        "        # Logits of complete output\n",
        "        # logits shape: (batch_size, sequence_length, vocab_size)\n",
        "\n",
        "        # Calculate the accuracy for the batch data\n",
        "        acc = accuracy_fn(target_seq_out, logits)\n",
        "\n",
        "    # Update the parameters and the optimizer\n",
        "    variables = encoder.trainable_variables + decoder.trainable_variables\n",
        "    gradients = tape.gradient(loss, variables)\n",
        "    optimizer.apply_gradients(zip(gradients, variables))\n",
        "\n",
        "    return loss / target_seq_out.shape[1], acc"
      ],
      "metadata": {
        "id": "petr3CqKII9z"
      },
      "id": "petr3CqKII9z",
      "execution_count": 40,
      "outputs": []
    },
    {
      "cell_type": "markdown",
      "source": [
        "similarly validation step is defined without optimizer and gradients updation"
      ],
      "metadata": {
        "id": "AuYnt53mTKtk"
      },
      "id": "AuYnt53mTKtk"
    },
    {
      "cell_type": "code",
      "source": [
        "@tf.function\n",
        "def valid_step(val_input_seq, val_target_seq_in, val_target_seq_out, en_initial_states):\n",
        "    loss = 0.\n",
        "    acc = 0.\n",
        "    logits = None\n",
        "\n",
        "    # Get the encoder outputs\n",
        "    en_outputs = encoder(val_input_seq, en_initial_states)\n",
        "    de_state_h, de_state_c = en_outputs[1:]\n",
        "\n",
        "    # Shape of target_seq_out (batch_size, sequence_length)\n",
        "\n",
        "    # Iterate over each word in the target sequence\n",
        "    for i in range(val_target_seq_out.shape[1]):\n",
        "        # Input to the decoder must have shape of (batch_size, 1)\n",
        "        # so we need to expand one dimension\n",
        "        decoder_in = tf.expand_dims(val_target_seq_in[:, i], 1)\n",
        "\n",
        "        logit, de_state_h, de_state_c, _ = decoder(\n",
        "            decoder_in, (de_state_h, de_state_c), en_outputs[0])\n",
        "\n",
        "        # The loss is now accumulated through the whole batch\n",
        "        loss += loss_func(val_target_seq_out[:, i], logit)\n",
        "\n",
        "        # Store the logits to calculate the accuracy\n",
        "        logit = tf.expand_dims(logit, axis=1)\n",
        "\n",
        "        if logits is None:\n",
        "            logits = logit\n",
        "        else:\n",
        "            logits = tf.concat((logits, logit), axis=1)\n",
        "\n",
        "    # Calculate the accuracy for the batch data\n",
        "    acc = accuracy_fn(val_target_seq_out, logits)\n",
        "\n",
        "    return loss / val_target_seq_out.shape[1], acc\n"
      ],
      "metadata": {
        "id": "owMXjHPUuUEV"
      },
      "id": "owMXjHPUuUEV",
      "execution_count": 41,
      "outputs": []
    },
    {
      "cell_type": "markdown",
      "source": [
        "Creating an Adam optimizer"
      ],
      "metadata": {
        "id": "qHjRkAUBSFgE"
      },
      "id": "qHjRkAUBSFgE"
    },
    {
      "cell_type": "code",
      "source": [
        "optimizer = tf.keras.optimizers.Adam(clipnorm = 5.0)"
      ],
      "metadata": {
        "id": "srLdhmMLJSV8"
      },
      "id": "srLdhmMLJSV8",
      "execution_count": 42,
      "outputs": []
    },
    {
      "cell_type": "code",
      "source": [
        "epoch_train_losses = []\n",
        "epoch_train_accuracies = []\n",
        "\n",
        "epoch_val_losses = []\n",
        "epoch_val_accuracies = []\n",
        "\n",
        "num_epochs = 7\n",
        "\n",
        "for epochs in range(num_epochs):\n",
        "\n",
        "    en_initial_states = encoder.init_states(batch_size)\n",
        "\n",
        "    train_losses = []\n",
        "    train_accuracies = []\n",
        "\n",
        "    for i, (input_seq, target_seq_in, target_seq_out) in enumerate(train_ds.take(-1)):\n",
        "        loss, accuracy = train_step(\n",
        "            input_seq, target_seq_in, target_seq_out, en_initial_states, optimizer,)\n",
        "\n",
        "        train_losses.append(loss)\n",
        "        train_accuracies.append(accuracy)\n",
        "\n",
        "    # Calculate average training loss and accuracy\n",
        "    avg_train_loss = tf.reduce_mean(train_losses)\n",
        "    avg_train_accuracy = tf.reduce_mean(train_accuracies)\n",
        "\n",
        "    epoch_train_losses.append(avg_train_loss)\n",
        "    epoch_train_accuracies.append(avg_train_accuracy)\n",
        "\n",
        "    val_losses = []\n",
        "    val_accuracies = []\n",
        "\n",
        "    for j, (val_input_seq, val_target_seq_in, val_target_seq_out) in enumerate(val_ds.take(-1)):\n",
        "        valid_loss, valid_accuracy = valid_step(\n",
        "            val_input_seq, val_target_seq_in, val_target_seq_out, en_initial_states)\n",
        "\n",
        "        val_losses.append(valid_loss)\n",
        "        val_accuracies.append(valid_accuracy)\n",
        "\n",
        "    # Calculate average validation loss and accuracy\n",
        "    avg_val_loss = tf.reduce_mean(val_losses)\n",
        "    avg_val_accuracy = tf.reduce_mean(val_accuracies)\n",
        "\n",
        "    epoch_val_losses.append(avg_val_loss)\n",
        "    epoch_val_accuracies.append(avg_val_accuracy)\n",
        "\n",
        "    print(\"Epoch {} \"\n",
        "          \"Avg Train Loss: {:.4f} \"\n",
        "          \"Avg Train Acc: {:.4f}  \"\n",
        "          \"Avg Validation Loss: {:.4f}  \"\n",
        "          \"Avg Val Acc: {:.4f}\".format(epochs + 1,\n",
        "                                  avg_train_loss.numpy(),\n",
        "                                  avg_train_accuracy.numpy(),\n",
        "                                  avg_val_loss.numpy(),\n",
        "                                  avg_val_accuracy.numpy())\n",
        "    )"
      ],
      "metadata": {
        "colab": {
          "base_uri": "https://localhost:8080/"
        },
        "id": "mnIwcWtfyoa3",
        "outputId": "8f8eba51-df4a-4212-9b95-8036466ef4b4"
      },
      "id": "mnIwcWtfyoa3",
      "execution_count": 43,
      "outputs": [
        {
          "output_type": "stream",
          "name": "stdout",
          "text": [
            "Epoch 1 Avg Train Loss: 1.9391 Avg Train Acc: 0.3080  Avg Validation Loss: 1.3537  Avg Val Acc: 0.4473\n",
            "Epoch 2 Avg Train Loss: 1.0841 Avg Train Acc: 0.5477  Avg Validation Loss: 0.8805  Avg Val Acc: 0.6120\n",
            "Epoch 3 Avg Train Loss: 0.7573 Avg Train Acc: 0.6488  Avg Validation Loss: 0.7149  Avg Val Acc: 0.6657\n",
            "Epoch 4 Avg Train Loss: 0.6012 Avg Train Acc: 0.6967  Avg Validation Loss: 0.6413  Avg Val Acc: 0.6911\n",
            "Epoch 5 Avg Train Loss: 0.5073 Avg Train Acc: 0.7287  Avg Validation Loss: 0.6040  Avg Val Acc: 0.7061\n",
            "Epoch 6 Avg Train Loss: 0.4423 Avg Train Acc: 0.7532  Avg Validation Loss: 0.5809  Avg Val Acc: 0.7155\n",
            "Epoch 7 Avg Train Loss: 0.3927 Avg Train Acc: 0.7739  Avg Validation Loss: 0.5683  Avg Val Acc: 0.7221\n"
          ]
        }
      ]
    },
    {
      "cell_type": "code",
      "source": [
        "import matplotlib.pyplot as plt\n",
        "\n",
        "fig, (ax1, ax2) = plt.subplots(1, 2, figsize = (15, 5))\n",
        "\n",
        "# losses\n",
        "ax1.plot(epoch_train_losses, label = \"train_loss\")\n",
        "ax1.plot(epoch_val_losses, label = \"valid_loss\")\n",
        "ax1.set_title(\"Training and Validation Loss\")\n",
        "ax1.legend()\n",
        "\n",
        "# accuracies\n",
        "ax2.plot(epoch_train_accuracies, label = \"train_acc\")\n",
        "ax2.plot(epoch_val_accuracies, label = \"val_acc\")\n",
        "ax2.set_title(\"Training and Validation Accuracy\")\n",
        "ax2.legend()\n",
        "plt.show()"
      ],
      "metadata": {
        "id": "SMS71MjNuS1a",
        "colab": {
          "base_uri": "https://localhost:8080/",
          "height": 468
        },
        "outputId": "8188dc67-7f8d-412c-dc8d-f504c78c1085"
      },
      "id": "SMS71MjNuS1a",
      "execution_count": 44,
      "outputs": [
        {
          "output_type": "display_data",
          "data": {
            "text/plain": [
              "<Figure size 1500x500 with 2 Axes>"
            ],
            "image/png": "[encoded data removed]"
          },
          "metadata": {}
        }
      ]
    },
    {
      "cell_type": "markdown",
      "source": [
        "Defining a function for translation and obtaining attention weights"
      ],
      "metadata": {
        "id": "haJt2k4Mofv7"
      },
      "id": "haJt2k4Mofv7"
    },
    {
      "cell_type": "code",
      "source": [
        "def translate_sentence_with_attention(input_sentence, encoder, decoded_max_len):\n",
        "    # Tokenize the input text\n",
        "    tokenized_input_sentence = eng_vectorization([input_sentence])\n",
        "\n",
        "    # Get the encoder initial states\n",
        "    en_initial_states = encoder.init_states(1)\n",
        "\n",
        "    # Get the encoder outputs or hidden states\n",
        "    en_outputs = encoder(tf.constant(tokenized_input_sentence), en_initial_states)\n",
        "\n",
        "    # Set the decoder input to the sos token\n",
        "    de_input = tf.constant([[fra_vectorization.get_vocabulary().index(\"[start]\")]])\n",
        "\n",
        "    # Set the initial hidden states of the decoder to the hidden states of the encoder\n",
        "    de_state_h, de_state_c = en_outputs[1:]\n",
        "\n",
        "    out_words = []\n",
        "    attention_weights = []\n",
        "\n",
        "    fra_vocab = fra_vectorization.get_vocabulary()\n",
        "    fra_index_lookup = dict(zip(range(len(fra_vocab)), fra_vocab))\n",
        "\n",
        "    while True:\n",
        "        # Get the decoder with attention output\n",
        "        de_output, de_state_h, de_state_c, attention = decoder(\n",
        "            de_input, (de_state_h, de_state_c), en_outputs[0])\n",
        "\n",
        "        de_input = tf.expand_dims(tf.argmax(de_output, -1), 0)\n",
        "\n",
        "        # Detokenize the output\n",
        "        out_words.append(fra_index_lookup[de_input.numpy()[0][0]])\n",
        "\n",
        "        # Save the aligment matrix\n",
        "        attention_weights.append(attention.numpy())\n",
        "\n",
        "        if out_words[-1] == \"[end]\" or len(out_words) >= decoded_max_len:\n",
        "            break\n",
        "\n",
        "    print(\"Input :\", input_sentence)\n",
        "\n",
        "    # Join the output words\n",
        "    print(\"Predicted translation :\", \" \".join(out_words))\n",
        "\n",
        "    return np.array(attention_weights), input_sentence.split(\" \"), out_words"
      ],
      "metadata": {
        "id": "v3q4t5CiY0Tp"
      },
      "id": "v3q4t5CiY0Tp",
      "execution_count": 45,
      "outputs": []
    },
    {
      "cell_type": "markdown",
      "source": [
        "Translating a few test sentences"
      ],
      "metadata": {
        "id": "i2Xa8qre159c"
      },
      "id": "i2Xa8qre159c"
    },
    {
      "cell_type": "code",
      "source": [
        "test_eng_texts = [pair[0] for pair in test_pairs]\n",
        "test_fra_texts = [pair[1] for pair in test_pairs]\n",
        "\n",
        "for _ in range(30):\n",
        "    # Choose a random index\n",
        "    random_index = random.randint(0, len(test_eng_texts) - 1)\n",
        "\n",
        "    input_text = test_eng_texts[random_index]\n",
        "    target_text = test_fra_texts[random_index]\n",
        "    test_sents = [input_text]\n",
        "\n",
        "    translate_sentence_with_attention(test_sents[0], encoder, 20)\n",
        "    print(\"Actual translation :\", target_text)\n",
        "    print()"
      ],
      "metadata": {
        "colab": {
          "base_uri": "https://localhost:8080/"
        },
        "id": "-hcncQyb2XA0",
        "outputId": "bee82a15-93e4-4f55-9113-1ed3d7b2c93d"
      },
      "id": "-hcncQyb2XA0",
      "execution_count": 46,
      "outputs": [
        {
          "output_type": "stream",
          "name": "stdout",
          "text": [
            "Input : The rules were recently relaxed.\n",
            "Predicted translation : les regles etaient importants . [end]\n",
            "Actual translation : [start] Les règles ont été récemment assouplies. [end]\n",
            "\n",
            "Input : I should like to go for a swim.\n",
            "Predicted translation : jaurais du aimer en aller nager . [end]\n",
            "Actual translation : [start] Je voudrais aller nager. [end]\n",
            "\n",
            "Input : You have to take a shower.\n",
            "Predicted translation : tu dois prendre une averse . [end]\n",
            "Actual translation : [start] Tu dois prendre une douche. [end]\n",
            "\n",
            "Input : I love you just the way you are.\n",
            "Predicted translation : je taime juste sur le chemin que tu es . [end]\n",
            "Actual translation : [start] Je t'aime juste comme tu es. [end]\n",
            "\n",
            "Input : What year were you born?\n",
            "Predicted translation : en quelle annee etesvous nes ? [end]\n",
            "Actual translation : [start] En quelle année es-tu né ? [end]\n",
            "\n",
            "Input : Faith can move mountains.\n",
            "Predicted translation : la foi peut bouger des montagnes . [end]\n",
            "Actual translation : [start] La foi peut soulever des montagnes. [end]\n",
            "\n",
            "Input : I'm interested in the history of Australia.\n",
            "Predicted translation : je suis interesse par lhistoire de laustralie . [end]\n",
            "Actual translation : [start] Je suis intéressé par l'histoire australienne. [end]\n",
            "\n",
            "Input : That is not my pen.\n",
            "Predicted translation : ce nest pas mon stylo . [end]\n",
            "Actual translation : [start] Ce n'est pas mon stylo. [end]\n",
            "\n",
            "Input : Can eating just vegetables help you lose weight?\n",
            "Predicted translation : manger juste de [UNK] et vous vous [UNK] a perdre du poids ? [end]\n",
            "Actual translation : [start] Ne manger que des fruits et légumes t'aide-t-il à perdre du poids ? [end]\n",
            "\n",
            "Input : This is what we want to know.\n",
            "Predicted translation : cest ce que nous voulons savoir . [end]\n",
            "Actual translation : [start] C'est ce que nous voulons savoir. [end]\n",
            "\n",
            "Input : I like big cities.\n",
            "Predicted translation : jaime la grande villes . [end]\n",
            "Actual translation : [start] J'aime les grandes villes. [end]\n",
            "\n",
            "Input : I can't blame him.\n",
            "Predicted translation : je ne peux pas le faire . [end]\n",
            "Actual translation : [start] Je ne peux pas lui faire de reproche. [end]\n",
            "\n",
            "Input : She had twins.\n",
            "Predicted translation : elle avait des jumeaux jumeaux . [end]\n",
            "Actual translation : [start] Elle eut des jumeaux. [end]\n",
            "\n",
            "Input : I really want a beer.\n",
            "Predicted translation : je veux vraiment une biere . [end]\n",
            "Actual translation : [start] Je veux vraiment une bière. [end]\n",
            "\n",
            "Input : It is not good to eat between meals.\n",
            "Predicted translation : il nest pas bon de manger entre les repas . [end]\n",
            "Actual translation : [start] Il n'est pas bon de manger entre les repas. [end]\n",
            "\n",
            "Input : I need a knife.\n",
            "Predicted translation : jai besoin dun couteau . [end]\n",
            "Actual translation : [start] J'ai besoin d'un couteau. [end]\n",
            "\n",
            "Input : She bought a new house the other day.\n",
            "Predicted translation : elle a achete une nouvelle maison lautre jour . [end]\n",
            "Actual translation : [start] Elle a acheté une nouvelle maison l'autre jour. [end]\n",
            "\n",
            "Input : I know you're not serious.\n",
            "Predicted translation : je sais que tu nes pas serieuse . [end]\n",
            "Actual translation : [start] Je sais que vous n'êtes pas sérieuse. [end]\n",
            "\n",
            "Input : If he's proficient in English, I'll hire him.\n",
            "Predicted translation : si il est competent en anglais , je le [UNK] . [end]\n",
            "Actual translation : [start] S'il est compétent en anglais, je l'engagerai. [end]\n",
            "\n",
            "Input : The old man sat down.\n",
            "Predicted translation : le vieil homme sassit a lenvers . [end]\n",
            "Actual translation : [start] Le vieil homme s'est assis. [end]\n",
            "\n",
            "Input : He's waiting for you at home.\n",
            "Predicted translation : il tattend chez moi . [end]\n",
            "Actual translation : [start] Il vous attend chez moi. [end]\n",
            "\n",
            "Input : This ship was ten meters long.\n",
            "Predicted translation : ce navire a ete dix metres de long . [end]\n",
            "Actual translation : [start] Ce bateau mesurait dix mètres. [end]\n",
            "\n",
            "Input : I heard it thunder in the distance.\n",
            "Predicted translation : je lai entendu frapper a la distance . [end]\n",
            "Actual translation : [start] Je l'ai entendu gronder au loin. [end]\n",
            "\n",
            "Input : I am going to get dressed.\n",
            "Predicted translation : je vais me [UNK] . [end]\n",
            "Actual translation : [start] Je vais m'habiller. [end]\n",
            "\n",
            "Input : They'll take care of you.\n",
            "Predicted translation : ils vont lapprecier . [end]\n",
            "Actual translation : [start] Elles prendront soin de vous. [end]\n",
            "\n",
            "Input : Where do you all live?\n",
            "Predicted translation : ou etaistu toutes les vivez ? [end]\n",
            "Actual translation : [start] Où vivez-vous tous ? [end]\n",
            "\n",
            "Input : There is a river between Saitama and Chiba.\n",
            "Predicted translation : il y a une riviere entre un marchand de chiba et chiba . [end]\n",
            "Actual translation : [start] Il y a une rivière séparant Saitama et Chiba. [end]\n",
            "\n",
            "Input : I slept all day yesterday.\n",
            "Predicted translation : jai dormi toute la journee hier . [end]\n",
            "Actual translation : [start] J'ai dormi toute la journée d'hier. [end]\n",
            "\n",
            "Input : I can't believe you let this happen.\n",
            "Predicted translation : je narrive pas a croire que tu aies laisse ceci se produire . [end]\n",
            "Actual translation : [start] Je n'arrive pas à croire que vous ayez permis que cela se produise. [end]\n",
            "\n",
            "Input : My father is a bit old-fashioned.\n",
            "Predicted translation : mon pere est un peu connu . [end]\n",
            "Actual translation : [start] Mon papa est un peu démodé. [end]\n",
            "\n"
          ]
        }
      ]
    },
    {
      "cell_type": "markdown",
      "source": [
        "Plotting attention heatmaps for source and prediction pairs"
      ],
      "metadata": {
        "id": "ItcpsyMU14-N"
      },
      "id": "ItcpsyMU14-N"
    },
    {
      "cell_type": "code",
      "source": [
        "# test_sents = [\"You are young and strong .\"]\n",
        "# test_sents = [\"The train was on time .\"]\n",
        "# test_sents= [\"It is a difficult language .\"]\n",
        "# test_sents = [\"you are taller than me .\"]\n",
        "test_sents = [\"you have a lot of strange ideas .\"]\n",
        "\n",
        "# Create the figure to plot in\n",
        "fig = plt.figure(figsize = (8, 8))\n",
        "\n",
        "for i, test_sent in enumerate(test_sents):\n",
        "    # Call the predict function to get the translation\n",
        "    attention_weights, source, prediction = translate_sentence_with_attention(test_sent, encoder, 20)\n",
        "    attention = np.squeeze(attention_weights, (1, 2))\n",
        "\n",
        "    # Create a subplot\n",
        "    ax = fig.add_subplot(1, 1, i+1)\n",
        "    ax.matshow(attention[:len(prediction), :len(source)], cmap = \"viridis\")\n",
        "    ax.set_xticklabels([\"\"] + source, rotation=90)\n",
        "    ax.set_yticklabels([\"\"] + prediction)\n",
        "\n",
        "plt.show()"
      ],
      "metadata": {
        "colab": {
          "base_uri": "https://localhost:8080/",
          "height": 751
        },
        "id": "N2hoAoPHcI1K",
        "outputId": "71651b90-bc7e-403d-8b34-a29d3bea9244"
      },
      "id": "N2hoAoPHcI1K",
      "execution_count": 47,
      "outputs": [
        {
          "output_type": "stream",
          "name": "stdout",
          "text": [
            "Input : you have a lot of strange ideas .\n",
            "Predicted translation : tu as beaucoup didees etranges . [end]\n"
          ]
        },
        {
          "output_type": "stream",
          "name": "stderr",
          "text": [
            "<ipython-input-47-37920296982a>:18: UserWarning: FixedFormatter should only be used together with FixedLocator\n",
            "  ax.set_xticklabels([\"\"] + source, rotation=90)\n",
            "<ipython-input-47-37920296982a>:19: UserWarning: FixedFormatter should only be used together with FixedLocator\n",
            "  ax.set_yticklabels([\"\"] + prediction)\n"
          ]
        },
        {
          "output_type": "display_data",
          "data": {
            "text/plain": [
              "<Figure size 800x800 with 1 Axes>"
            ],
            "image/png": "[encoded data removed]"
          },
          "metadata": {}
        }
      ]
    },
    {
      "cell_type": "code",
      "execution_count": null,
      "id": "ae3baafa",
      "metadata": {
        "id": "ae3baafa"
      },
      "outputs": [],
      "source": []
    },
    {
      "cell_type": "code",
      "execution_count": null,
      "id": "fe455b96",
      "metadata": {
        "id": "fe455b96"
      },
      "outputs": [],
      "source": []
    },
    {
      "cell_type": "code",
      "execution_count": null,
      "id": "e125ca9b",
      "metadata": {
        "id": "e125ca9b"
      },
      "outputs": [],
      "source": []
    },
    {
      "cell_type": "code",
      "execution_count": null,
      "id": "db2a30d7",
      "metadata": {
        "id": "db2a30d7"
      },
      "outputs": [],
      "source": []
    },
    {
      "cell_type": "code",
      "execution_count": null,
      "id": "73f4457c",
      "metadata": {
        "id": "73f4457c"
      },
      "outputs": [],
      "source": []
    },
    {
      "cell_type": "code",
      "execution_count": null,
      "id": "bd13ed9a",
      "metadata": {
        "id": "bd13ed9a"
      },
      "outputs": [],
      "source": []
    },
    {
      "cell_type": "code",
      "execution_count": null,
      "id": "d8b88ba3",
      "metadata": {
        "id": "d8b88ba3"
      },
      "outputs": [],
      "source": []
    },
    {
      "cell_type": "code",
      "execution_count": null,
      "id": "db3469fc",
      "metadata": {
        "id": "db3469fc"
      },
      "outputs": [],
      "source": []
    },
    {
      "cell_type": "code",
      "execution_count": null,
      "id": "9bac97c5",
      "metadata": {
        "id": "9bac97c5"
      },
      "outputs": [],
      "source": []
    },
    {
      "cell_type": "code",
      "execution_count": null,
      "id": "c170d51e",
      "metadata": {
        "id": "c170d51e"
      },
      "outputs": [],
      "source": []
    },
    {
      "cell_type": "code",
      "execution_count": null,
      "id": "f5d23dc9",
      "metadata": {
        "id": "f5d23dc9"
      },
      "outputs": [],
      "source": []
    },
    {
      "cell_type": "code",
      "execution_count": null,
      "id": "5268966c",
      "metadata": {
        "id": "5268966c"
      },
      "outputs": [],
      "source": []
    },
    {
      "cell_type": "code",
      "execution_count": null,
      "id": "30da0e55",
      "metadata": {
        "id": "30da0e55"
      },
      "outputs": [],
      "source": []
    },
    {
      "cell_type": "code",
      "execution_count": null,
      "id": "c5830544",
      "metadata": {
        "id": "c5830544"
      },
      "outputs": [],
      "source": []
    },
    {
      "cell_type": "code",
      "execution_count": null,
      "id": "53e4d35f",
      "metadata": {
        "id": "53e4d35f"
      },
      "outputs": [],
      "source": []
    },
    {
      "cell_type": "code",
      "execution_count": null,
      "id": "09e1a14a",
      "metadata": {
        "id": "09e1a14a"
      },
      "outputs": [],
      "source": []
    },
    {
      "cell_type": "code",
      "execution_count": null,
      "id": "50a72631",
      "metadata": {
        "id": "50a72631"
      },
      "outputs": [],
      "source": []
    },
    {
      "cell_type": "code",
      "execution_count": null,
      "id": "f5798cc0",
      "metadata": {
        "id": "f5798cc0"
      },
      "outputs": [],
      "source": []
    },
    {
      "cell_type": "code",
      "execution_count": null,
      "id": "6f0b3a04",
      "metadata": {
        "id": "6f0b3a04"
      },
      "outputs": [],
      "source": []
    },
    {
      "cell_type": "code",
      "execution_count": null,
      "id": "fa1db614",
      "metadata": {
        "id": "fa1db614"
      },
      "outputs": [],
      "source": []
    },
    {
      "cell_type": "code",
      "execution_count": null,
      "id": "534d2909",
      "metadata": {
        "id": "534d2909"
      },
      "outputs": [],
      "source": []
    }
  ],
  "metadata": {
    "kernelspec": {
      "display_name": "Python 3",
      "name": "python3"
    },
    "language_info": {
      "name": "python"
    },
    "colab": {
      "provenance": [],
      "gpuType": "T4"
    },
    "accelerator": "GPU"
  },
  "nbformat": 4,
  "nbformat_minor": 5
}